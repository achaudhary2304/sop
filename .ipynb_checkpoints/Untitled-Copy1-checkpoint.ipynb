{
 "cells": [
  {
   "cell_type": "code",
   "execution_count": 1,
   "id": "3148997e-94d6-4a81-96bc-0fffcd5229f3",
   "metadata": {},
   "outputs": [
    {
     "name": "stderr",
     "output_type": "stream",
     "text": [
      "/home/aryan/.local/lib/python3.10/site-packages/torch/__config__.py:10: UserWarning: CUDA initialization: CUDA unknown error - this may be due to an incorrectly set up environment, e.g. changing env variable CUDA_VISIBLE_DEVICES after program start. Setting the available devices to be zero. (Triggered internally at /pytorch/c10/cuda/CUDAFunctions.cpp:109.)\n",
      "  return torch._C._show_config()\n",
      "/home/aryan/.local/lib/python3.10/site-packages/matplotlib/projections/__init__.py:63: UserWarning: Unable to import Axes3D. This may be due to multiple versions of Matplotlib being installed (e.g. as a system package and as a pip package). As a result, the 3D projection is not available.\n",
      "  warnings.warn(\"Unable to import Axes3D. This may be due to multiple versions of \"\n"
     ]
    }
   ],
   "source": [
    "import numpy as np\n",
    "import pandas as pd\n",
    "import networkx as nx\n",
    "import torch\n",
    "import torch.nn as nn\n",
    "import torch.nn.functional as F\n",
    "from torch_geometric.nn import GCNConv\n",
    "import random\n",
    "import matplotlib.pyplot as plt"
   ]
  },
  {
   "cell_type": "code",
   "execution_count": 2,
   "id": "9e263d3f-366a-4d3f-925f-6edb40d940eb",
   "metadata": {},
   "outputs": [],
   "source": [
    "#loading the data \n",
    "df = pd.read_csv(r\"/home/aryan/sop_fd/neeww(1).csv\")"
   ]
  },
  {
   "cell_type": "code",
   "execution_count": 3,
   "id": "475a74f5-64cb-40c4-b9a0-5daad1d3b21e",
   "metadata": {},
   "outputs": [],
   "source": [
    "#using a subset of the data for prototyping\n",
    "sample_size = int(len(df))\n",
    "sampled_indices = random.sample(range(len(df)), sample_size)\n",
    "df = df.iloc[sampled_indices].reset_index(drop=True)"
   ]
  },
  {
   "cell_type": "code",
   "execution_count": 4,
   "id": "dc4b968d-af25-4811-8bca-18f82911dcbe",
   "metadata": {},
   "outputs": [],
   "source": [
    "#creating the graph and adding nodes \n",
    "G = nx.Graph()\n",
    "num_users = len(df)\n",
    "G.add_nodes_from(range(num_users))"
   ]
  },
  {
   "cell_type": "markdown",
   "id": "7ffcebf7-164f-437b-bec2-8d0fdf2f2e28",
   "metadata": {},
   "source": [
    "Ask prateek if we need to create cosine similarity for all the users or what "
   ]
  },
  {
   "cell_type": "code",
   "execution_count": 5,
   "id": "eb31a7e5-e5fb-4d1f-809f-cc5131971fa3",
   "metadata": {},
   "outputs": [],
   "source": [
    "#adding the cosine similarity here\n",
    "feature_matrix = df.values\n",
    "for i in range(num_users):\n",
    "    for j in range(i+1, num_users):\n",
    "        if np.dot(feature_matrix[i, 1:4], feature_matrix[j, 1:4]) >= 1:\n",
    "            G.add_edge(i, j)\n",
    "        "
   ]
  },
  {
   "cell_type": "code",
   "execution_count": null,
   "id": "c4ada53b-e437-4207-b913-d9e2247bab1b",
   "metadata": {},
   "outputs": [],
   "source": [
    "centralities = {\n",
    "    'degree': nx.degree_centrality(G),\n",
    "    'betweenness': nx.betweenness_centrality(G),\n",
    "    'closeness': nx.closeness_centrality(G),\n",
    "    'eigenvector': nx.eigenvector_centrality(G, max_iter=500)\n",
    "}\n",
    "print(\"centrality done\")"
   ]
  },
  {
   "cell_type": "code",
   "execution_count": null,
   "id": "23268ab7-f53d-4ce1-ac47-4d2738163c12",
   "metadata": {},
   "outputs": [],
   "source": [
    "X = np.array([[centralities['degree'][i],\n",
    "               centralities['betweenness'][i],\n",
    "               centralities['closeness'][i],\n",
    "               centralities['eigenvector'][i]]\n",
    "              for i in range(num_users)])\n",
    "\n",
    "X = np.concatenate([feature_matrix[:, [0]], X], axis=1)"
   ]
  },
  {
   "cell_type": "code",
   "execution_count": null,
   "id": "c25d36d2-d200-400e-b5ae-cf939c6ec129",
   "metadata": {},
   "outputs": [],
   "source": [
    "\n",
    "# 2️⃣ SIR Simulation for Ground Truth Labels\n",
    "def sir_simulation(G, patient_zero, beta=0.3, gamma=0.1, max_iter=50):\n",
    "    states = {n: 'S' for n in G.nodes()}\n",
    "    states[patient_zero] = 'I'\n",
    "    infected_count = [1]\n",
    "\n",
    "    for _ in range(max_iter):\n",
    "        new_infections = 0\n",
    "        recoveries = 0\n",
    "\n",
    "        for node in list(G.nodes()):\n",
    "            if states[node] == 'I':\n",
    "                for neighbor in G.neighbors(node):\n",
    "                    if states[neighbor] == 'S' and np.random.random() < beta:\n",
    "                        states[neighbor] = 'I'\n",
    "                        new_infections += 1\n",
    "\n",
    "                if np.random.random() < gamma:\n",
    "                    states[node] = 'R'\n",
    "                    recoveries += 1\n",
    "\n",
    "        infected_count.append(infected_count[-1] + new_infections - recoveries)\n",
    "\n",
    "        if infected_count[-1] == 0:\n",
    "            break\n",
    "\n",
    "    return max(infected_count)\n",
    "\n",
    "sir_labels = np.zeros(num_users)\n",
    "for i in range(num_users):\n",
    "    sir_labels[i] = sir_simulation(G, i)\n",
    "print(\"sir done\")"
   ]
  },
  {
   "cell_type": "code",
   "execution_count": null,
   "id": "3d10ca92-7680-4187-958e-34ffd275c65d",
   "metadata": {},
   "outputs": [],
   "source": [
    "\n",
    "threshold = np.percentile(sir_labels, 80)\n",
    "y = (sir_labels >= threshold).astype(int)\n",
    "\n",
    "class TrustGCN(nn.Module):\n",
    "    def __init__(self, input_dim=5, hidden_dim=8):\n",
    "        super().__init__()\n",
    "        self.conv1 = GCNConv(input_dim, 8)\n",
    "        self.fc1 = torch.nn.Linear(8, 16)    \n",
    "        self.fc2 = torch.nn.Linear(16, 8)    \n",
    "        self.fc3 = torch.nn.Linear(8, 2) \n",
    "        \n",
    "    def forward(self, x, edge_index):\n",
    "        x = self.conv1(x, edge_index)\n",
    "        x = F.elu(x)\n",
    "        x = self.conv2(x, edge_index)\n",
    "        x = F.elu(x)\n",
    "        x = self.conv3(x, edge_index)\n",
    "        x = F.elu(x)\n",
    "        x = self.conv4(x, edge_index)\n",
    "        return F.log_softmax(x, dim=1)\n",
    "\n",
    "edge_index = torch.tensor(list(G.edges())).t().contiguous()\n",
    "features = torch.tensor(X, dtype=torch.float32)\n",
    "labels = torch.tensor(y, dtype=torch.long)"
   ]
  },
  {
   "cell_type": "code",
   "execution_count": null,
   "id": "f7d1e173-ba55-43ed-99ff-2a57fa154e7d",
   "metadata": {},
   "outputs": [],
   "source": [
    "\n",
    "# 5️⃣ Training with SIR-based Loss\n",
    "model = TrustGCN()\n",
    "optimizer = torch.optim.Adam(model.parameters(), lr=0.01)\n",
    "\n",
    "for epoch in range(200):\n",
    "    model.train()\n",
    "    optimizer.zero_grad()\n",
    "\n",
    "    output = model(features, edge_index)\n",
    "    loss = F.nll_loss(output, labels)\n",
    "\n",
    "    loss.backward()\n",
    "    optimizer.step()\n",
    "\n",
    "    if epoch % 10 == 0:\n",
    "        print(f'Epoch {epoch}, Loss: {loss.item():.4f}')\n",
    "\n",
    "# 6️⃣ Trust Evaluation and Access Control\n",
    "with torch.no_grad():\n",
    "    model.eval()\n",
    "    log_probs = model(features, edge_index)\n",
    "    influence_scores = torch.exp(log_probs[:, 1])\n",
    "\n",
    "trust_scores = influence_scores.numpy()\n",
    "\n",
    "num, bins = np.histogram(trust_scores, bins=10)\n",
    "bin_width = bins[1] - bins[0]\n",
    "bin_centers = (bins[:-1] + bins[1:]) / 2\n",
    "\n",
    "plt.bar(bin_centers, num, width=bin_width, align='center')\n",
    "plt.xlabel(\"Trust Scores\")\n",
    "plt.ylabel(\"Number of People\")\n",
    "plt.title(\"Distribution of Trust Scores\")\n",
    "plt.show()\n",
    "\n",
    "trust_threshold = 0.65\n",
    "connection_fading = 0.5"
   ]
  },
  {
   "cell_type": "code",
   "execution_count": null,
   "id": "fec3f003-9c09-46cb-bdf4-28dde8c7c605",
   "metadata": {},
   "outputs": [],
   "source": [
    "\n",
    "def grant_access(user_id):\n",
    "    department = df.iloc[user_id][4:8].idxmax().split('_')[1]\n",
    "    trust = trust_scores[user_id]\n",
    "\n",
    "    if trust < trust_threshold:\n",
    "        return False, \"Insufficient trust score\"\n",
    "\n",
    "    if department == '3':\n",
    "        return True, \"Full access granted\"\n",
    "    else:\n",
    "        return True, \"Standard access granted\"\n",
    "\n",
    "for user_id in df.index:\n",
    "    access, message = grant_access(user_id)\n",
    "    print(f\"User {user_id}: {message}\")\n",
    "\n",
    "def apply_fading_factor(G, pl, di):\n",
    "    rho = (1 - pl + di) / 2\n",
    "    for u, v in G.edges():\n",
    "        G[u][v]['weight'] *= rho\n",
    "    return G"
   ]
  },
  {
   "cell_type": "code",
   "execution_count": null,
   "id": "a6b742cc-ca10-43b1-a6f2-dbc2aa4fa6fe",
   "metadata": {},
   "outputs": [],
   "source": []
  }
 ],
 "metadata": {
  "kernelspec": {
   "display_name": "Python 3 (ipykernel)",
   "language": "python",
   "name": "python3"
  },
  "language_info": {
   "codemirror_mode": {
    "name": "ipython",
    "version": 3
   },
   "file_extension": ".py",
   "mimetype": "text/x-python",
   "name": "python",
   "nbconvert_exporter": "python",
   "pygments_lexer": "ipython3",
   "version": "3.10.12"
  }
 },
 "nbformat": 4,
 "nbformat_minor": 5
}
