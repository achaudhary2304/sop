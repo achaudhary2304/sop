{
 "cells": [
  {
   "cell_type": "code",
   "execution_count": 25,
   "id": "3e5317d5-2a4c-46b1-acfc-7b89a216e0b9",
   "metadata": {},
   "outputs": [],
   "source": [
    "import torch "
   ]
  },
  {
   "cell_type": "code",
   "execution_count": 26,
   "id": "4b219b48-6eb1-4d81-a92a-7aa2b0a8c052",
   "metadata": {},
   "outputs": [
    {
     "name": "stdout",
     "output_type": "stream",
     "text": [
      "2.6.0+cu124\n"
     ]
    }
   ],
   "source": [
    "print(torch.__version__)"
   ]
  },
  {
   "cell_type": "code",
   "execution_count": 27,
   "id": "58f553f3-e043-4641-8abb-4b335f15aa79",
   "metadata": {},
   "outputs": [],
   "source": [
    "a  = torch.empty(2,3)\n",
    "#the attribute size is a row and then a column "
   ]
  },
  {
   "cell_type": "code",
   "execution_count": 28,
   "id": "f2964a51-5c88-46d0-8280-bc725bafce3b",
   "metadata": {},
   "outputs": [
    {
     "name": "stdout",
     "output_type": "stream",
     "text": [
      "tensor([[-9.3442e+18,  4.5810e-41,  5.9284e+34],\n",
      "        [ 3.6074e-41,  4.4842e-44,  0.0000e+00]])\n"
     ]
    }
   ],
   "source": [
    "print(a)"
   ]
  },
  {
   "cell_type": "code",
   "execution_count": 29,
   "id": "89c4828a-a294-4aa3-8d8c-57a64c5ff67d",
   "metadata": {},
   "outputs": [
    {
     "data": {
      "text/plain": [
       "torch.Tensor"
      ]
     },
     "execution_count": 29,
     "metadata": {},
     "output_type": "execute_result"
    }
   ],
   "source": [
    "type(a)"
   ]
  },
  {
   "cell_type": "code",
   "execution_count": 30,
   "id": "fd9e53e0-b63c-4db4-bf0c-78b5a17830e1",
   "metadata": {},
   "outputs": [
    {
     "data": {
      "text/plain": [
       "tensor([[0., 0., 0.],\n",
       "        [0., 0., 0.]])"
      ]
     },
     "execution_count": 30,
     "metadata": {},
     "output_type": "execute_result"
    }
   ],
   "source": [
    "(torch.zeros(2,3))"
   ]
  },
  {
   "cell_type": "code",
   "execution_count": 31,
   "id": "95a2231c-d462-4da1-9c31-472d6ac531d0",
   "metadata": {},
   "outputs": [
    {
     "data": {
      "text/plain": [
       "tensor([[1., 1., 1.],\n",
       "        [1., 1., 1.]])"
      ]
     },
     "execution_count": 31,
     "metadata": {},
     "output_type": "execute_result"
    }
   ],
   "source": [
    "(torch.ones(2,3))"
   ]
  },
  {
   "cell_type": "code",
   "execution_count": 32,
   "id": "f953027b-d029-4f6e-84e8-e113221e0c7f",
   "metadata": {},
   "outputs": [
    {
     "data": {
      "text/plain": [
       "tensor([[0.2627, 0.0428, 0.2080],\n",
       "        [0.1180, 0.1217, 0.7356]])"
      ]
     },
     "execution_count": 32,
     "metadata": {},
     "output_type": "execute_result"
    }
   ],
   "source": [
    "torch.rand(2,3)"
   ]
  },
  {
   "cell_type": "code",
   "execution_count": 33,
   "id": "9acc74f6-3ffd-42c8-a659-819c8dd2fa95",
   "metadata": {},
   "outputs": [
    {
     "name": "stdout",
     "output_type": "stream",
     "text": [
      "tensor([[0.7118, 0.7876, 0.4183],\n",
      "        [0.9014, 0.9969, 0.7565]])\n"
     ]
    }
   ],
   "source": [
    "A = torch.rand(2,3)\n",
    "print(A)\n"
   ]
  },
  {
   "cell_type": "code",
   "execution_count": 34,
   "id": "77df551f-fee7-44de-a5fe-bf9b5f3a37d1",
   "metadata": {},
   "outputs": [
    {
     "name": "stdout",
     "output_type": "stream",
     "text": [
      "tensor([[0.9357, 1.0899, 0.5967],\n",
      "        [1.7253, 1.5526, 1.7335]])\n"
     ]
    }
   ],
   "source": [
    "B = torch.rand(2,3)\n",
    "print(A+B)"
   ]
  },
  {
   "cell_type": "code",
   "execution_count": 35,
   "id": "ace5c5f3-998c-4a83-8876-a0f838cb137a",
   "metadata": {},
   "outputs": [
    {
     "data": {
      "text/plain": [
       "tensor([[0.1117, 0.8158, 0.2626],\n",
       "        [0.4839, 0.6765, 0.7539]])"
      ]
     },
     "execution_count": 35,
     "metadata": {},
     "output_type": "execute_result"
    }
   ],
   "source": [
    "torch.manual_seed(100)\n",
    "torch.rand(2,3)"
   ]
  },
  {
   "cell_type": "code",
   "execution_count": 39,
   "id": "19e64fad-fb44-417b-8bf7-536795faa3b7",
   "metadata": {},
   "outputs": [],
   "source": [
    "A = torch.tensor([[1,2,3],[4,5,6]])"
   ]
  },
  {
   "cell_type": "code",
   "execution_count": 40,
   "id": "41f8fb3e-0345-4780-ae01-3a911e42d439",
   "metadata": {},
   "outputs": [
    {
     "data": {
      "text/plain": [
       "torch.Size([2, 3])"
      ]
     },
     "execution_count": 40,
     "metadata": {},
     "output_type": "execute_result"
    }
   ],
   "source": [
    "A.shape"
   ]
  },
  {
   "cell_type": "code",
   "execution_count": 41,
   "id": "59bd5b62-9a41-48b8-b1af-f600a71c9e37",
   "metadata": {},
   "outputs": [
    {
     "data": {
      "text/plain": [
       "tensor([[140410517302608, 140410517302608,               0],\n",
       "        [              0,               0,               0]])"
      ]
     },
     "execution_count": 41,
     "metadata": {},
     "output_type": "execute_result"
    }
   ],
   "source": [
    "torch.empty_like(A)"
   ]
  },
  {
   "cell_type": "raw",
   "id": "1cc00ce4-a5ce-4449-ab0e-c5eaeb22284b",
   "metadata": {},
   "source": []
  },
  {
   "cell_type": "code",
   "execution_count": null,
   "id": "31b121f1-901b-47be-bb8b-6eb41dd6524e",
   "metadata": {},
   "outputs": [],
   "source": []
  },
  {
   "cell_type": "code",
   "execution_count": null,
   "id": "309cae92-068a-4b39-a2d5-4c76c4fa6056",
   "metadata": {},
   "outputs": [],
   "source": []
  },
  {
   "cell_type": "code",
   "execution_count": null,
   "id": "86052d63-d08d-4dcd-8a67-b76eef77fdc0",
   "metadata": {},
   "outputs": [],
   "source": []
  },
  {
   "cell_type": "code",
   "execution_count": null,
   "id": "fc24f0fb-cbaa-441b-a6ba-e04fa0465fd1",
   "metadata": {},
   "outputs": [],
   "source": []
  },
  {
   "cell_type": "code",
   "execution_count": null,
   "id": "69a9c067-3943-4964-aabf-123db81b9d58",
   "metadata": {},
   "outputs": [],
   "source": []
  },
  {
   "cell_type": "code",
   "execution_count": null,
   "id": "aa655bd7-18ed-4283-902c-698ec3edc9dc",
   "metadata": {},
   "outputs": [],
   "source": []
  }
 ],
 "metadata": {
  "kernelspec": {
   "display_name": "Python 3 (ipykernel)",
   "language": "python",
   "name": "python3"
  },
  "language_info": {
   "codemirror_mode": {
    "name": "ipython",
    "version": 3
   },
   "file_extension": ".py",
   "mimetype": "text/x-python",
   "name": "python",
   "nbconvert_exporter": "python",
   "pygments_lexer": "ipython3",
   "version": "3.10.12"
  }
 },
 "nbformat": 4,
 "nbformat_minor": 5
}
