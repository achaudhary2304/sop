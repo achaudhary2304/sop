{
 "cells": [
  {
   "cell_type": "code",
   "execution_count": 16,
   "id": "fd18cc8d-dffd-4015-807e-9c46dd652dbf",
   "metadata": {},
   "outputs": [],
   "source": [
    "import torch \n",
    "import pandas as pd\n",
    "import numpy\n",
    "import seaborn as sns\n",
    "import matplotlib.pyplot as plt"
   ]
  },
  {
   "cell_type": "code",
   "execution_count": 2,
   "id": "aaa57c28-5ccb-4602-be73-cf1f689f9d15",
   "metadata": {},
   "outputs": [],
   "source": [
    "edge_index = torch.load('edge_index.pt')\n",
    "features = torch.load('features.pt')\n",
    "labels = torch.load('labels.pt')"
   ]
  },
  {
   "cell_type": "code",
   "execution_count": 30,
   "id": "965e2c25-ac89-47b7-98a8-872b4bbbf094",
   "metadata": {},
   "outputs": [
    {
     "name": "stdout",
     "output_type": "stream",
     "text": [
      "First few edges:\n",
      "tensor([[ 0,  0,  0,  0,  0,  0,  0,  0,  0,  0,  0,  0,  0,  0,  0,  0,  0,  0,\n",
      "          0,  0,  0,  0,  0,  0,  0,  0,  0,  0,  0,  0],\n",
      "        [32, 33, 34, 35, 36, 37, 38, 39, 40, 41, 42, 43, 44, 45, 47, 48, 49, 50,\n",
      "         51, 52, 53, 54, 55, 56, 57, 58, 59, 60, 61, 62]])\n",
      "\n",
      "Last few edges:\n",
      "tensor([[2367, 2367, 2367, 2367, 2367, 2380, 2380, 2380, 2380, 2404, 2404, 2404,\n",
      "         2484, 2484, 2495],\n",
      "        [2367, 2380, 2404, 2484, 2495, 2380, 2404, 2484, 2495, 2404, 2484, 2495,\n",
      "         2484, 2495, 2495]])\n"
     ]
    }
   ],
   "source": [
    "num_edges = edge_index.shape[1]\n",
    "num_to_print = 15  # Print the first and last 10 edges (adjust as needed)\n",
    "\n",
    "print(\"First few edges:\")\n",
    "print(edge_index[:, 30:60])\n",
    "\n",
    "print(\"\\nLast few edges:\")\n",
    "print(edge_index[:, -num_to_print:])"
   ]
  },
  {
   "cell_type": "code",
   "execution_count": 6,
   "id": "0452e83a-62be-484d-8793-0fe618f9d298",
   "metadata": {},
   "outputs": [
    {
     "data": {
      "text/plain": [
       "torch.Size([2, 3126250])"
      ]
     },
     "execution_count": 6,
     "metadata": {},
     "output_type": "execute_result"
    }
   ],
   "source": [
    "edge_index.shape"
   ]
  },
  {
   "cell_type": "code",
   "execution_count": 19,
   "id": "8e208734-0ad7-41fa-be98-2612efe7d1cf",
   "metadata": {},
   "outputs": [
    {
     "data": {
      "text/plain": [
       "torch.Size([2500, 4])"
      ]
     },
     "execution_count": 19,
     "metadata": {},
     "output_type": "execute_result"
    }
   ],
   "source": [
    "features.shape"
   ]
  },
  {
   "cell_type": "code",
   "execution_count": 7,
   "id": "bd5ee72f-5c83-4928-b7be-3c13445525d3",
   "metadata": {},
   "outputs": [
    {
     "data": {
      "text/plain": [
       "tensor([[1.0008, 0.0000, 1.0000, 0.0200],\n",
       "        [1.0008, 0.0000, 1.0000, 0.0200],\n",
       "        [1.0008, 0.0000, 1.0000, 0.0200],\n",
       "        ...,\n",
       "        [1.0008, 0.0000, 1.0000, 0.0200],\n",
       "        [1.0008, 0.0000, 1.0000, 0.0200],\n",
       "        [1.0008, 0.0000, 1.0000, 0.0200]])"
      ]
     },
     "execution_count": 7,
     "metadata": {},
     "output_type": "execute_result"
    }
   ],
   "source": [
    "features"
   ]
  },
  {
   "cell_type": "code",
   "execution_count": 12,
   "id": "17261b76-5269-42af-a068-98273aa67a18",
   "metadata": {},
   "outputs": [],
   "source": [
    "variance_value = torch.var(features)"
   ]
  },
  {
   "cell_type": "code",
   "execution_count": 13,
   "id": "5012cff2-e995-4808-9bb5-99383d995dab",
   "metadata": {},
   "outputs": [
    {
     "data": {
      "text/plain": [
       "tensor(0.2453)"
      ]
     },
     "execution_count": 13,
     "metadata": {},
     "output_type": "execute_result"
    }
   ],
   "source": [
    "variance_value"
   ]
  },
  {
   "cell_type": "code",
   "execution_count": 17,
   "id": "4d395f2b-d963-4da6-b349-9206d11f03e6",
   "metadata": {},
   "outputs": [
    {
     "data": {
      "image/png": "[encoded data removed]",
      "text/plain": [
       "<Figure size 720x720 with 20 Axes>"
      ]
     },
     "metadata": {
      "needs_background": "light"
     },
     "output_type": "display_data"
    }
   ],
   "source": [
    "df = pd.DataFrame(features.numpy(), columns=[f'Feature {i}' for i in range(features.shape[1])])\n",
    "\n",
    "sns.pairplot(df)\n",
    "plt.suptitle('Pair Plot of Features', y=1.02)\n",
    "plt.show()"
   ]
  },
  {
   "cell_type": "code",
   "execution_count": null,
   "id": "f1286025-2f10-446e-9f99-c929ecda4752",
   "metadata": {},
   "outputs": [],
   "source": [
    "import torch\n",
    "import networkx as nx\n",
    "import matplotlib.pyplot as plt\n",
    "import random\n",
    "\n",
    "# Assuming your edge_index tensor is loaded\n",
    "\n",
    "edge_list = edge_index.cpu().numpy()\n",
    "graph = nx.Graph()\n",
    "for i in range(edge_list.shape[1]):\n",
    "    graph.add_edge(edge_list[0, i], edge_list[1, i])\n",
    "\n",
    "num_nodes = graph.number_of_nodes()\n",
    "if num_nodes > 100:\n",
    "    # Randomly select a subset of nodes\n",
    "    subset_nodes = random.sample(list(graph.nodes()), 100)\n",
    "    subgraph = graph.subgraph(subset_nodes)\n",
    "\n",
    "    plt.figure(figsize=(10, 8))\n",
    "    nx.draw(subgraph, with_labels=True, node_size=100, node_color='lightblue', edge_color='gray', linewidths=0.5)\n",
    "    plt.title(\"Visualization of a Random Subgraph (100 nodes)\")\n",
    "    plt.show()\n",
    "else:\n",
    "    plt.figure(figsize=(12, 10))\n",
    "    nx.draw(graph, with_labels=False, node_size=50, node_color='skyblue', edge_color='gray', linewidths=0.5)\n",
    "    plt.title(\"Graph Visualization\")\n",
    "    plt.show()"
   ]
  },
  {
   "cell_type": "code",
   "execution_count": 32,
   "id": "bf14398f-8f00-4821-b641-a9f7b3a3acfc",
   "metadata": {},
   "outputs": [
    {
     "name": "stdout",
     "output_type": "stream",
     "text": [
      "509\n"
     ]
    }
   ],
   "source": [
    "count = torch.sum(labels == 1).item()\n",
    "print(count)"
   ]
  },
  {
   "cell_type": "code",
   "execution_count": 33,
   "id": "768dbae7-bf29-4cf3-a11e-992f3157f989",
   "metadata": {},
   "outputs": [
    {
     "name": "stdout",
     "output_type": "stream",
     "text": [
      "Entry: (1.000800371170044, 0.0, 1.0, 0.019999999552965164), Count: 2500\n",
      "\n",
      "Total number of entries that appear more than once: 2500\n"
     ]
    }
   ],
   "source": [
    "import torch\n",
    "\n",
    "def count_unique_entries(features):\n",
    "  \"\"\"\n",
    "  Counts the occurrences of each unique entry in a PyTorch tensor.\n",
    "\n",
    "  Args:\n",
    "    features: A PyTorch tensor.\n",
    "\n",
    "  Returns:\n",
    "    A dictionary where keys are the unique entries (as tuples)\n",
    "    and values are their counts.\n",
    "  \"\"\"\n",
    "  unique_entries = {}\n",
    "  for feature_row in features:\n",
    "    # Convert the tensor row to a tuple so it can be used as a dictionary key\n",
    "    feature_tuple = tuple(feature_row.tolist())\n",
    "    if feature_tuple in unique_entries:\n",
    "      unique_entries[feature_tuple] += 1\n",
    "    else:\n",
    "      unique_entries[feature_tuple] = 1\n",
    "  return unique_entries\n",
    "\n",
    "# Assuming your 'features' tensor is already loaded\n",
    "unique_counts = count_unique_entries(features)\n",
    "\n",
    "# Print the counts of each unique entry\n",
    "for entry, count in unique_counts.items():\n",
    "  print(f\"Entry: {entry}, Count: {count}\")\n",
    "\n",
    "# If you just want to know how many entries appear more than once:\n",
    "duplicate_count = 0\n",
    "for entry, count in unique_counts.items():\n",
    "  if count > 1:\n",
    "    duplicate_count += count\n",
    "print(f\"\\nTotal number of entries that appear more than once: {duplicate_count}\")"
   ]
  },
  {
   "cell_type": "code",
   "execution_count": null,
   "id": "a5030191-c5cf-4ac1-a106-c3f04eece57c",
   "metadata": {},
   "outputs": [],
   "source": []
  }
 ],
 "metadata": {
  "kernelspec": {
   "display_name": "Python 3 (ipykernel)",
   "language": "python",
   "name": "python3"
  },
  "language_info": {
   "codemirror_mode": {
    "name": "ipython",
    "version": 3
   },
   "file_extension": ".py",
   "mimetype": "text/x-python",
   "name": "python",
   "nbconvert_exporter": "python",
   "pygments_lexer": "ipython3",
   "version": "3.10.12"
  }
 },
 "nbformat": 4,
 "nbformat_minor": 5
}
