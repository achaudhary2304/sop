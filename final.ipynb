{
 "cells": [
  {
   "cell_type": "code",
   "execution_count": 41,
   "metadata": {},
   "outputs": [],
   "source": [
    "import torch\n",
    "import torch.nn as nn\n",
    "import torch.nn.functional as F\n",
    "from torch_geometric.nn import GCNConv\n",
    "from torch_geometric.utils import to_undirected\n",
    "import networkx as nx\n",
    "import numpy as np\n",
    "import pandas as pd\n",
    "from sklearn.preprocessing import StandardScaler\n",
    "import random\n",
    "import matplotlib.pyplot as plt"
   ]
  },
  {
   "cell_type": "code",
   "execution_count": 42,
   "metadata": {},
   "outputs": [],
   "source": [
    "#loading the data \n",
    "df = pd.read_csv(r\"/home/aryan/sop_fd/neeww(1).csv\")"
   ]
  },
  {
   "cell_type": "code",
   "execution_count": 43,
   "metadata": {},
   "outputs": [],
   "source": [
    "#using a subset of the data for prototyping\n",
    "sample_size = int(len(df)*.2)\n",
    "sampled_indices = random.sample(range(len(df)), sample_size)\n",
    "df = df.iloc[sampled_indices].reset_index(drop=True)"
   ]
  },
  {
   "cell_type": "code",
   "execution_count": 44,
   "metadata": {},
   "outputs": [],
   "source": [
    "# Create the Graph and Add Nodes\n",
    "G = nx.Graph()\n",
    "num_users = len(df)\n",
    "G.add_nodes_from(range(num_users))"
   ]
  },
  {
   "cell_type": "code",
   "execution_count": 45,
   "metadata": {},
   "outputs": [],
   "source": [
    "\n",
    "# Cosine Similarity Edge Formation\n",
    "feature_matrix = df.values\n",
    "for i in range(num_users):\n",
    "    for j in range(i + 1, num_users):\n",
    "        vec1 = feature_matrix[i, 0:8]  # Assuming columns 1-3 are features\n",
    "        vec2 = feature_matrix[j, 0:8]\n",
    "        similarity = np.dot(vec1, vec2) / (np.linalg.norm(vec1) * np.linalg.norm(vec2))\n",
    "        if similarity >= 0.5:\n",
    "            G.add_edge(i, j)"
   ]
  },
  {
   "cell_type": "code",
   "execution_count": 46,
   "metadata": {},
   "outputs": [],
   "source": [
    "\n",
    "# K-hop Graph Construction\n",
    "def khop_graph(G, k):\n",
    "    khop_G = nx.Graph()\n",
    "    for node in G.nodes:\n",
    "        neighbors = nx.single_source_shortest_path_length(G, node, cutoff=k)\n",
    "        for neighbor, dist in neighbors.items():\n",
    "            if dist <= k:\n",
    "                khop_G.add_edge(node, neighbor)\n",
    "    return khop_G"
   ]
  },
  {
   "cell_type": "code",
   "execution_count": 47,
   "metadata": {},
   "outputs": [
    {
     "name": "stdout",
     "output_type": "stream",
     "text": [
      "K-hop graph created with 500 nodes and 125250 edges.\n"
     ]
    }
   ],
   "source": [
    "\n",
    "\n",
    "k = 3\n",
    "G_khop = khop_graph(G, k)\n",
    "print(f\"K-hop graph created with {len(G_khop.nodes)} nodes and {len(G_khop.edges)} edges.\")\n"
   ]
  },
  {
   "cell_type": "code",
   "execution_count": 48,
   "metadata": {},
   "outputs": [],
   "source": [
    "### 3️⃣ Compute Normalized Laplacian ###\n",
    "A = nx.to_numpy_array(G_khop)\n",
    "D = np.diag(A.sum(axis=1))\n",
    "L = D - A  # Unnormalized Laplacian\n",
    "D_inv_sqrt = np.linalg.inv(np.sqrt(D))\n",
    "L_norm = np.eye(A.shape[0]) - np.matmul(D_inv_sqrt, A).dot(D_inv_sqrt)\n",
    "\n",
    "# Convert to PyTorch Tensor\n",
    "laplacian_tensor = torch.tensor(L_norm, dtype=torch.float)"
   ]
  },
  {
   "cell_type": "code",
   "execution_count": 49,
   "metadata": {},
   "outputs": [
    {
     "name": "stdout",
     "output_type": "stream",
     "text": [
      "Centrality calculation completed.\n"
     ]
    }
   ],
   "source": [
    "# Centrality Calculation on K-hop Graph\n",
    "centralities = {\n",
    "    'degree': nx.degree_centrality(G_khop),\n",
    "    'betweenness': nx.betweenness_centrality(G_khop),\n",
    "    'closeness': nx.closeness_centrality(G_khop),\n",
    "    'eigenvector': nx.eigenvector_centrality(G_khop, max_iter=1000)\n",
    "}\n",
    "\n",
    "print(\"Centrality calculation completed.\")"
   ]
  },
  {
   "cell_type": "code",
   "execution_count": 15,
   "metadata": {},
   "outputs": [],
   "source": [
    "import pickle\n",
    "filename = 'a.pkl'\n",
    "with open(filename, 'wb') as file:\n",
    "    pickle.dump(centralities, file)  # 'wb' for write binary"
   ]
  },
  {
   "cell_type": "code",
   "execution_count": 8,
   "metadata": {},
   "outputs": [],
   "source": [
    "import pickle\n",
    "filename = 'a.pkl'\n",
    "with open(filename, 'rb') as file:\n",
    "    centralities = pickle.load(file)  # 'rb' for read binary"
   ]
  },
  {
   "cell_type": "code",
   "execution_count": 50,
   "metadata": {},
   "outputs": [],
   "source": [
    "# Feature matrix with centralities (excluding user ID)\n",
    "X = np.array([[centralities['degree'][i],\n",
    "               centralities['betweenness'][i],\n",
    "               centralities['closeness'][i],\n",
    "               centralities['eigenvector'][i]]\n",
    "              for i in range(num_users)])"
   ]
  },
  {
   "cell_type": "code",
   "execution_count": 51,
   "metadata": {},
   "outputs": [],
   "source": [
    "# SIR Simulation on K-hop Graph\n",
    "def sir_simulation(G, patient_zero, beta=0.3, gamma=0.1, max_iter=50):\n",
    "    states = {n: 'S' for n in G.nodes()}\n",
    "    states[patient_zero] = 'I'\n",
    "    infected_count = [1]\n",
    "\n",
    "    for _ in range(max_iter):\n",
    "        new_infections, recoveries = 0, 0\n",
    "\n",
    "        for node in list(G.nodes()):\n",
    "            if states[node] == 'I':\n",
    "                for neighbor in G.neighbors(node):\n",
    "                    if states[neighbor] == 'S' and np.random.random() < beta:\n",
    "                        states[neighbor] = 'I'\n",
    "                        new_infections += 1\n",
    "\n",
    "                if np.random.random() < gamma:\n",
    "                    states[node] = 'R'\n",
    "                    recoveries += 1\n",
    "\n",
    "        infected_count.append(infected_count[-1] + new_infections - recoveries)\n",
    "\n",
    "        if infected_count[-1] == 0:\n",
    "            break\n",
    "\n",
    "    return max(infected_count)"
   ]
  },
  {
   "cell_type": "code",
   "execution_count": 52,
   "metadata": {},
   "outputs": [
    {
     "name": "stdout",
     "output_type": "stream",
     "text": [
      "SIR simulation completed.\n"
     ]
    }
   ],
   "source": [
    "sir_labels = np.zeros(num_users)\n",
    "for i in range(num_users):\n",
    "    sir_labels[i] = sir_simulation(G_khop, i)\n",
    "print(\"SIR simulation completed.\")\n",
    "\n",
    "threshold = np.percentile(sir_labels, 80)\n",
    "y = (sir_labels >= threshold).astype(int)"
   ]
  },
  {
   "cell_type": "code",
   "execution_count": null,
   "metadata": {},
   "outputs": [],
   "source": [
    "filename = 'b.pkl'\n",
    "with open(filename, 'wb') as file:\n",
    "    pickle.dump(y, file)  # 'wb' for write binary"
   ]
  },
  {
   "cell_type": "code",
   "execution_count": 12,
   "metadata": {},
   "outputs": [],
   "source": [
    "\n",
    "filename = 'b.pkl'\n",
    "with open(filename, 'rb') as file:\n",
    "    y = pickle.load(file)  "
   ]
  },
  {
   "cell_type": "code",
   "execution_count": 13,
   "metadata": {},
   "outputs": [
    {
     "ename": "AttributeError",
     "evalue": "'numpy.ndarray' object has no attribute 'type'",
     "output_type": "error",
     "traceback": [
      "\u001b[0;31m---------------------------------------------------------------------------\u001b[0m",
      "\u001b[0;31mAttributeError\u001b[0m                            Traceback (most recent call last)",
      "\u001b[0;32m/tmp/ipykernel_131599/1551633758.py\u001b[0m in \u001b[0;36m<module>\u001b[0;34m\u001b[0m\n\u001b[0;32m----> 1\u001b[0;31m \u001b[0my\u001b[0m\u001b[0;34m.\u001b[0m\u001b[0mtype\u001b[0m\u001b[0;34m(\u001b[0m\u001b[0;34m)\u001b[0m\u001b[0;34m\u001b[0m\u001b[0;34m\u001b[0m\u001b[0m\n\u001b[0m",
      "\u001b[0;31mAttributeError\u001b[0m: 'numpy.ndarray' object has no attribute 'type'"
     ]
    }
   ],
   "source": []
  },
  {
   "cell_type": "code",
   "execution_count": null,
   "metadata": {},
   "outputs": [],
   "source": [
    "print(np.array_equal(y, d))  \n"
   ]
  },
  {
   "cell_type": "code",
   "execution_count": 54,
   "metadata": {},
   "outputs": [],
   "source": [
    "\n",
    "# Convert Graph to PyG Edge Index\n",
    "edge_index = torch.tensor(list(G_khop.edges())).t().contiguous()\n",
    "\n",
    "# Features and Labels\n",
    "features = torch.tensor(X, dtype=torch.float32)\n",
    "labels = torch.tensor(y, dtype=torch.long)\n"
   ]
  },
  {
   "cell_type": "code",
   "execution_count": 55,
   "metadata": {},
   "outputs": [],
   "source": [
    "# GCN Model with corrected initialization\n",
    "class TrustGCN(nn.Module):\n",
    "    def __init__(self, input_dim=4, hidden_dim=8):\n",
    "        super(TrustGCN, self).__init__()\n",
    "        self.conv1 = GCNConv(input_dim, 16)\n",
    "        self.conv2 = GCNConv(16, 32)\n",
    "        self.conv3 = GCNConv(32, 64)\n",
    "        \n",
    "        # Fully connected layers\n",
    "        self.fc1 = nn.Linear(64, 32)\n",
    "        self.fc2 = nn.Linear(32, 16)\n",
    "        self.fc3 = nn.Linear(16, 2)\n",
    "        \n",
    "    def forward(self, x, edge_index):\n",
    "        x = F.elu(self.conv1(x, edge_index))\n",
    "        x = F.elu(self.conv2(x, edge_index))\n",
    "        x = F.elu(self.conv3(x, edge_index))\n",
    "        \n",
    "        # Fully connected processing\n",
    "        x = F.elu(self.fc1(x))\n",
    "        x = F.elu(self.fc2(x))\n",
    "        x = self.fc3(x)\n",
    "        return F.log_softmax(x, dim=1)"
   ]
  },
  {
   "cell_type": "code",
   "execution_count": 56,
   "metadata": {},
   "outputs": [
    {
     "name": "stdout",
     "output_type": "stream",
     "text": [
      "Epoch 0, Loss: 0.6723\n",
      "Epoch 10, Loss: 0.5407\n",
      "Epoch 20, Loss: 0.5301\n",
      "Epoch 30, Loss: 0.5173\n",
      "Epoch 40, Loss: 0.4781\n",
      "Epoch 50, Loss: 0.4345\n",
      "Epoch 60, Loss: 0.4141\n",
      "Epoch 70, Loss: 0.4008\n",
      "Epoch 80, Loss: 0.3870\n",
      "Epoch 90, Loss: 0.7011\n",
      "Epoch 100, Loss: 0.4368\n",
      "Epoch 110, Loss: 0.4071\n",
      "Epoch 120, Loss: 0.3607\n",
      "Epoch 130, Loss: 0.3389\n",
      "Epoch 140, Loss: 0.3504\n",
      "Epoch 150, Loss: 0.3751\n",
      "Epoch 160, Loss: 0.5691\n",
      "Epoch 170, Loss: 0.4971\n",
      "Epoch 180, Loss: 0.4190\n",
      "Epoch 190, Loss: 0.3519\n"
     ]
    },
    {
     "data": {
      "image/png": "[encoded data removed]",
      "text/plain": [
       "<Figure size 432x288 with 1 Axes>"
      ]
     },
     "metadata": {
      "needs_background": "light"
     },
     "output_type": "display_data"
    },
    {
     "name": "stdout",
     "output_type": "stream",
     "text": [
      "User 0: Insufficient trust score\n",
      "User 1: Insufficient trust score\n",
      "User 2: Insufficient trust score\n",
      "User 3: Insufficient trust score\n",
      "User 4: Insufficient trust score\n",
      "User 5: Insufficient trust score\n",
      "User 6: Insufficient trust score\n",
      "User 7: Insufficient trust score\n",
      "User 8: Insufficient trust score\n",
      "User 9: Insufficient trust score\n",
      "User 10: Insufficient trust score\n",
      "User 11: Insufficient trust score\n",
      "User 12: Insufficient trust score\n",
      "User 13: Insufficient trust score\n",
      "User 14: Insufficient trust score\n",
      "User 15: Insufficient trust score\n",
      "User 16: Insufficient trust score\n",
      "User 17: Insufficient trust score\n",
      "User 18: Insufficient trust score\n",
      "User 19: Insufficient trust score\n",
      "User 20: Insufficient trust score\n",
      "User 21: Insufficient trust score\n",
      "User 22: Insufficient trust score\n",
      "User 23: Insufficient trust score\n",
      "User 24: Insufficient trust score\n",
      "User 25: Insufficient trust score\n",
      "User 26: Insufficient trust score\n",
      "User 27: Insufficient trust score\n",
      "User 28: Insufficient trust score\n",
      "User 29: Insufficient trust score\n",
      "User 30: Insufficient trust score\n",
      "User 31: Insufficient trust score\n",
      "User 32: Insufficient trust score\n",
      "User 33: Insufficient trust score\n",
      "User 34: Insufficient trust score\n",
      "User 35: Insufficient trust score\n",
      "User 36: Insufficient trust score\n",
      "User 37: Insufficient trust score\n",
      "User 38: Insufficient trust score\n",
      "User 39: Insufficient trust score\n",
      "User 40: Insufficient trust score\n",
      "User 41: Insufficient trust score\n",
      "User 42: Insufficient trust score\n",
      "User 43: Insufficient trust score\n",
      "User 44: Insufficient trust score\n",
      "User 45: Insufficient trust score\n",
      "User 46: Insufficient trust score\n",
      "User 47: Insufficient trust score\n",
      "User 48: Insufficient trust score\n",
      "User 49: Insufficient trust score\n",
      "User 50: Insufficient trust score\n",
      "User 51: Insufficient trust score\n",
      "User 52: Insufficient trust score\n",
      "User 53: Insufficient trust score\n",
      "User 54: Insufficient trust score\n",
      "User 55: Insufficient trust score\n",
      "User 56: Insufficient trust score\n",
      "User 57: Insufficient trust score\n",
      "User 58: Insufficient trust score\n",
      "User 59: Insufficient trust score\n",
      "User 60: Insufficient trust score\n",
      "User 61: Insufficient trust score\n",
      "User 62: Insufficient trust score\n",
      "User 63: Insufficient trust score\n",
      "User 64: Insufficient trust score\n",
      "User 65: Insufficient trust score\n",
      "User 66: Insufficient trust score\n",
      "User 67: Insufficient trust score\n",
      "User 68: Insufficient trust score\n",
      "User 69: Insufficient trust score\n",
      "User 70: Insufficient trust score\n",
      "User 71: Insufficient trust score\n",
      "User 72: Insufficient trust score\n",
      "User 73: Insufficient trust score\n",
      "User 74: Insufficient trust score\n",
      "User 75: Insufficient trust score\n",
      "User 76: Insufficient trust score\n",
      "User 77: Insufficient trust score\n",
      "User 78: Insufficient trust score\n",
      "User 79: Insufficient trust score\n",
      "User 80: Insufficient trust score\n",
      "User 81: Insufficient trust score\n",
      "User 82: Insufficient trust score\n",
      "User 83: Insufficient trust score\n",
      "User 84: Insufficient trust score\n",
      "User 85: Insufficient trust score\n",
      "User 86: Insufficient trust score\n",
      "User 87: Insufficient trust score\n",
      "User 88: Insufficient trust score\n",
      "User 89: Insufficient trust score\n",
      "User 90: Insufficient trust score\n",
      "User 91: Insufficient trust score\n",
      "User 92: Insufficient trust score\n",
      "User 93: Insufficient trust score\n",
      "User 94: Insufficient trust score\n",
      "User 95: Insufficient trust score\n",
      "User 96: Insufficient trust score\n",
      "User 97: Insufficient trust score\n",
      "User 98: Insufficient trust score\n",
      "User 99: Insufficient trust score\n",
      "User 100: Insufficient trust score\n",
      "User 101: Insufficient trust score\n",
      "User 102: Insufficient trust score\n",
      "User 103: Insufficient trust score\n",
      "User 104: Insufficient trust score\n",
      "User 105: Insufficient trust score\n",
      "User 106: Insufficient trust score\n",
      "User 107: Insufficient trust score\n",
      "User 108: Insufficient trust score\n",
      "User 109: Insufficient trust score\n",
      "User 110: Insufficient trust score\n",
      "User 111: Insufficient trust score\n",
      "User 112: Insufficient trust score\n",
      "User 113: Insufficient trust score\n",
      "User 114: Insufficient trust score\n",
      "User 115: Insufficient trust score\n",
      "User 116: Insufficient trust score\n",
      "User 117: Insufficient trust score\n",
      "User 118: Insufficient trust score\n",
      "User 119: Insufficient trust score\n",
      "User 120: Insufficient trust score\n",
      "User 121: Insufficient trust score\n",
      "User 122: Insufficient trust score\n",
      "User 123: Insufficient trust score\n",
      "User 124: Insufficient trust score\n",
      "User 125: Insufficient trust score\n",
      "User 126: Insufficient trust score\n",
      "User 127: Insufficient trust score\n",
      "User 128: Insufficient trust score\n",
      "User 129: Insufficient trust score\n",
      "User 130: Insufficient trust score\n",
      "User 131: Insufficient trust score\n",
      "User 132: Insufficient trust score\n",
      "User 133: Insufficient trust score\n",
      "User 134: Insufficient trust score\n",
      "User 135: Insufficient trust score\n",
      "User 136: Insufficient trust score\n",
      "User 137: Insufficient trust score\n",
      "User 138: Insufficient trust score\n",
      "User 139: Insufficient trust score\n",
      "User 140: Insufficient trust score\n",
      "User 141: Insufficient trust score\n",
      "User 142: Insufficient trust score\n",
      "User 143: Insufficient trust score\n",
      "User 144: Insufficient trust score\n",
      "User 145: Insufficient trust score\n",
      "User 146: Insufficient trust score\n",
      "User 147: Insufficient trust score\n",
      "User 148: Insufficient trust score\n",
      "User 149: Insufficient trust score\n",
      "User 150: Insufficient trust score\n",
      "User 151: Insufficient trust score\n",
      "User 152: Insufficient trust score\n",
      "User 153: Insufficient trust score\n",
      "User 154: Insufficient trust score\n",
      "User 155: Insufficient trust score\n",
      "User 156: Insufficient trust score\n",
      "User 157: Insufficient trust score\n",
      "User 158: Insufficient trust score\n",
      "User 159: Insufficient trust score\n",
      "User 160: Insufficient trust score\n",
      "User 161: Insufficient trust score\n",
      "User 162: Insufficient trust score\n",
      "User 163: Insufficient trust score\n",
      "User 164: Insufficient trust score\n",
      "User 165: Insufficient trust score\n",
      "User 166: Insufficient trust score\n",
      "User 167: Insufficient trust score\n",
      "User 168: Insufficient trust score\n",
      "User 169: Insufficient trust score\n",
      "User 170: Insufficient trust score\n",
      "User 171: Insufficient trust score\n",
      "User 172: Insufficient trust score\n",
      "User 173: Insufficient trust score\n",
      "User 174: Insufficient trust score\n",
      "User 175: Insufficient trust score\n",
      "User 176: Insufficient trust score\n",
      "User 177: Insufficient trust score\n",
      "User 178: Insufficient trust score\n",
      "User 179: Insufficient trust score\n",
      "User 180: Insufficient trust score\n",
      "User 181: Insufficient trust score\n",
      "User 182: Insufficient trust score\n",
      "User 183: Insufficient trust score\n",
      "User 184: Insufficient trust score\n",
      "User 185: Insufficient trust score\n",
      "User 186: Insufficient trust score\n",
      "User 187: Insufficient trust score\n",
      "User 188: Insufficient trust score\n",
      "User 189: Insufficient trust score\n",
      "User 190: Insufficient trust score\n",
      "User 191: Insufficient trust score\n",
      "User 192: Insufficient trust score\n",
      "User 193: Insufficient trust score\n",
      "User 194: Insufficient trust score\n",
      "User 195: Insufficient trust score\n",
      "User 196: Insufficient trust score\n",
      "User 197: Insufficient trust score\n",
      "User 198: Insufficient trust score\n",
      "User 199: Insufficient trust score\n",
      "User 200: Insufficient trust score\n",
      "User 201: Insufficient trust score\n",
      "User 202: Insufficient trust score\n",
      "User 203: Insufficient trust score\n",
      "User 204: Insufficient trust score\n",
      "User 205: Insufficient trust score\n",
      "User 206: Insufficient trust score\n",
      "User 207: Insufficient trust score\n",
      "User 208: Insufficient trust score\n",
      "User 209: Insufficient trust score\n",
      "User 210: Insufficient trust score\n",
      "User 211: Insufficient trust score\n",
      "User 212: Insufficient trust score\n",
      "User 213: Insufficient trust score\n",
      "User 214: Insufficient trust score\n",
      "User 215: Insufficient trust score\n",
      "User 216: Insufficient trust score\n",
      "User 217: Insufficient trust score\n",
      "User 218: Insufficient trust score\n",
      "User 219: Insufficient trust score\n",
      "User 220: Insufficient trust score\n",
      "User 221: Insufficient trust score\n",
      "User 222: Insufficient trust score\n",
      "User 223: Insufficient trust score\n",
      "User 224: Insufficient trust score\n",
      "User 225: Insufficient trust score\n",
      "User 226: Insufficient trust score\n",
      "User 227: Insufficient trust score\n",
      "User 228: Insufficient trust score\n",
      "User 229: Insufficient trust score\n",
      "User 230: Insufficient trust score\n",
      "User 231: Insufficient trust score\n",
      "User 232: Insufficient trust score\n",
      "User 233: Insufficient trust score\n",
      "User 234: Insufficient trust score\n",
      "User 235: Insufficient trust score\n",
      "User 236: Insufficient trust score\n",
      "User 237: Insufficient trust score\n",
      "User 238: Insufficient trust score\n",
      "User 239: Insufficient trust score\n",
      "User 240: Insufficient trust score\n",
      "User 241: Insufficient trust score\n",
      "User 242: Insufficient trust score\n",
      "User 243: Insufficient trust score\n",
      "User 244: Insufficient trust score\n",
      "User 245: Insufficient trust score\n",
      "User 246: Insufficient trust score\n",
      "User 247: Insufficient trust score\n",
      "User 248: Insufficient trust score\n",
      "User 249: Insufficient trust score\n",
      "User 250: Insufficient trust score\n",
      "User 251: Insufficient trust score\n",
      "User 252: Insufficient trust score\n",
      "User 253: Insufficient trust score\n",
      "User 254: Insufficient trust score\n",
      "User 255: Insufficient trust score\n",
      "User 256: Insufficient trust score\n",
      "User 257: Insufficient trust score\n",
      "User 258: Insufficient trust score\n",
      "User 259: Insufficient trust score\n",
      "User 260: Insufficient trust score\n",
      "User 261: Insufficient trust score\n",
      "User 262: Insufficient trust score\n",
      "User 263: Insufficient trust score\n",
      "User 264: Insufficient trust score\n",
      "User 265: Insufficient trust score\n",
      "User 266: Insufficient trust score\n",
      "User 267: Insufficient trust score\n",
      "User 268: Insufficient trust score\n",
      "User 269: Insufficient trust score\n",
      "User 270: Insufficient trust score\n",
      "User 271: Insufficient trust score\n",
      "User 272: Insufficient trust score\n",
      "User 273: Insufficient trust score\n",
      "User 274: Insufficient trust score\n",
      "User 275: Insufficient trust score\n",
      "User 276: Insufficient trust score\n",
      "User 277: Insufficient trust score\n",
      "User 278: Insufficient trust score\n",
      "User 279: Insufficient trust score\n",
      "User 280: Insufficient trust score\n",
      "User 281: Insufficient trust score\n",
      "User 282: Insufficient trust score\n",
      "User 283: Insufficient trust score\n",
      "User 284: Insufficient trust score\n",
      "User 285: Insufficient trust score\n",
      "User 286: Insufficient trust score\n",
      "User 287: Insufficient trust score\n",
      "User 288: Insufficient trust score\n",
      "User 289: Insufficient trust score\n",
      "User 290: Insufficient trust score\n",
      "User 291: Insufficient trust score\n",
      "User 292: Insufficient trust score\n",
      "User 293: Insufficient trust score\n",
      "User 294: Insufficient trust score\n",
      "User 295: Insufficient trust score\n",
      "User 296: Insufficient trust score\n",
      "User 297: Insufficient trust score\n",
      "User 298: Insufficient trust score\n",
      "User 299: Insufficient trust score\n",
      "User 300: Insufficient trust score\n",
      "User 301: Insufficient trust score\n",
      "User 302: Insufficient trust score\n",
      "User 303: Insufficient trust score\n",
      "User 304: Insufficient trust score\n",
      "User 305: Insufficient trust score\n",
      "User 306: Insufficient trust score\n",
      "User 307: Insufficient trust score\n",
      "User 308: Insufficient trust score\n",
      "User 309: Insufficient trust score\n",
      "User 310: Insufficient trust score\n",
      "User 311: Insufficient trust score\n",
      "User 312: Insufficient trust score\n",
      "User 313: Insufficient trust score\n",
      "User 314: Insufficient trust score\n",
      "User 315: Insufficient trust score\n",
      "User 316: Insufficient trust score\n",
      "User 317: Insufficient trust score\n",
      "User 318: Insufficient trust score\n",
      "User 319: Insufficient trust score\n",
      "User 320: Insufficient trust score\n",
      "User 321: Insufficient trust score\n",
      "User 322: Insufficient trust score\n",
      "User 323: Insufficient trust score\n",
      "User 324: Insufficient trust score\n",
      "User 325: Insufficient trust score\n",
      "User 326: Insufficient trust score\n",
      "User 327: Insufficient trust score\n",
      "User 328: Insufficient trust score\n",
      "User 329: Insufficient trust score\n",
      "User 330: Insufficient trust score\n",
      "User 331: Insufficient trust score\n",
      "User 332: Insufficient trust score\n",
      "User 333: Insufficient trust score\n",
      "User 334: Insufficient trust score\n",
      "User 335: Insufficient trust score\n",
      "User 336: Insufficient trust score\n",
      "User 337: Insufficient trust score\n",
      "User 338: Insufficient trust score\n",
      "User 339: Insufficient trust score\n",
      "User 340: Insufficient trust score\n",
      "User 341: Insufficient trust score\n",
      "User 342: Insufficient trust score\n",
      "User 343: Insufficient trust score\n",
      "User 344: Insufficient trust score\n",
      "User 345: Insufficient trust score\n",
      "User 346: Insufficient trust score\n",
      "User 347: Insufficient trust score\n",
      "User 348: Insufficient trust score\n",
      "User 349: Insufficient trust score\n",
      "User 350: Insufficient trust score\n",
      "User 351: Insufficient trust score\n",
      "User 352: Insufficient trust score\n",
      "User 353: Insufficient trust score\n",
      "User 354: Insufficient trust score\n",
      "User 355: Insufficient trust score\n",
      "User 356: Insufficient trust score\n",
      "User 357: Insufficient trust score\n",
      "User 358: Insufficient trust score\n",
      "User 359: Insufficient trust score\n",
      "User 360: Insufficient trust score\n",
      "User 361: Insufficient trust score\n",
      "User 362: Insufficient trust score\n",
      "User 363: Insufficient trust score\n",
      "User 364: Insufficient trust score\n",
      "User 365: Insufficient trust score\n",
      "User 366: Insufficient trust score\n",
      "User 367: Insufficient trust score\n",
      "User 368: Insufficient trust score\n",
      "User 369: Insufficient trust score\n",
      "User 370: Insufficient trust score\n",
      "User 371: Insufficient trust score\n",
      "User 372: Insufficient trust score\n",
      "User 373: Insufficient trust score\n",
      "User 374: Insufficient trust score\n",
      "User 375: Insufficient trust score\n",
      "User 376: Insufficient trust score\n",
      "User 377: Insufficient trust score\n",
      "User 378: Insufficient trust score\n",
      "User 379: Insufficient trust score\n",
      "User 380: Insufficient trust score\n",
      "User 381: Insufficient trust score\n",
      "User 382: Insufficient trust score\n",
      "User 383: Insufficient trust score\n",
      "User 384: Insufficient trust score\n",
      "User 385: Insufficient trust score\n",
      "User 386: Insufficient trust score\n",
      "User 387: Insufficient trust score\n",
      "User 388: Insufficient trust score\n",
      "User 389: Insufficient trust score\n",
      "User 390: Insufficient trust score\n",
      "User 391: Insufficient trust score\n",
      "User 392: Insufficient trust score\n",
      "User 393: Insufficient trust score\n",
      "User 394: Insufficient trust score\n",
      "User 395: Insufficient trust score\n",
      "User 396: Insufficient trust score\n",
      "User 397: Insufficient trust score\n",
      "User 398: Insufficient trust score\n",
      "User 399: Insufficient trust score\n",
      "User 400: Insufficient trust score\n",
      "User 401: Insufficient trust score\n",
      "User 402: Insufficient trust score\n",
      "User 403: Insufficient trust score\n",
      "User 404: Insufficient trust score\n",
      "User 405: Insufficient trust score\n",
      "User 406: Insufficient trust score\n",
      "User 407: Insufficient trust score\n",
      "User 408: Insufficient trust score\n",
      "User 409: Insufficient trust score\n",
      "User 410: Standard access granted\n",
      "User 411: Standard access granted\n",
      "User 412: Standard access granted\n",
      "User 413: Standard access granted\n",
      "User 414: Full access granted\n",
      "User 415: Standard access granted\n",
      "User 416: Insufficient trust score\n",
      "User 417: Standard access granted\n",
      "User 418: Insufficient trust score\n",
      "User 419: Insufficient trust score\n",
      "User 420: Full access granted\n",
      "User 421: Full access granted\n",
      "User 422: Standard access granted\n",
      "User 423: Standard access granted\n",
      "User 424: Standard access granted\n",
      "User 425: Standard access granted\n",
      "User 426: Insufficient trust score\n",
      "User 427: Insufficient trust score\n",
      "User 428: Standard access granted\n",
      "User 429: Full access granted\n",
      "User 430: Full access granted\n",
      "User 431: Standard access granted\n",
      "User 432: Full access granted\n",
      "User 433: Standard access granted\n",
      "User 434: Insufficient trust score\n",
      "User 435: Standard access granted\n",
      "User 436: Insufficient trust score\n",
      "User 437: Full access granted\n",
      "User 438: Standard access granted\n",
      "User 439: Standard access granted\n",
      "User 440: Standard access granted\n",
      "User 441: Standard access granted\n",
      "User 442: Standard access granted\n",
      "User 443: Standard access granted\n",
      "User 444: Standard access granted\n",
      "User 445: Full access granted\n",
      "User 446: Full access granted\n",
      "User 447: Standard access granted\n",
      "User 448: Standard access granted\n",
      "User 449: Full access granted\n",
      "User 450: Standard access granted\n",
      "User 451: Standard access granted\n",
      "User 452: Standard access granted\n",
      "User 453: Full access granted\n",
      "User 454: Full access granted\n",
      "User 455: Standard access granted\n",
      "User 456: Standard access granted\n",
      "User 457: Standard access granted\n",
      "User 458: Standard access granted\n",
      "User 459: Standard access granted\n",
      "User 460: Standard access granted\n",
      "User 461: Standard access granted\n",
      "User 462: Standard access granted\n",
      "User 463: Standard access granted\n",
      "User 464: Standard access granted\n",
      "User 465: Full access granted\n",
      "User 466: Standard access granted\n",
      "User 467: Standard access granted\n",
      "User 468: Standard access granted\n",
      "User 469: Full access granted\n",
      "User 470: Full access granted\n",
      "User 471: Full access granted\n",
      "User 472: Insufficient trust score\n",
      "User 473: Standard access granted\n",
      "User 474: Insufficient trust score\n",
      "User 475: Standard access granted\n",
      "User 476: Standard access granted\n",
      "User 477: Standard access granted\n",
      "User 478: Full access granted\n",
      "User 479: Standard access granted\n",
      "User 480: Full access granted\n",
      "User 481: Full access granted\n",
      "User 482: Full access granted\n",
      "User 483: Standard access granted\n",
      "User 484: Full access granted\n",
      "User 485: Standard access granted\n",
      "User 486: Standard access granted\n",
      "User 487: Standard access granted\n",
      "User 488: Standard access granted\n",
      "User 489: Standard access granted\n",
      "User 490: Standard access granted\n",
      "User 491: Standard access granted\n",
      "User 492: Standard access granted\n",
      "User 493: Full access granted\n",
      "User 494: Standard access granted\n",
      "User 495: Standard access granted\n",
      "User 496: Standard access granted\n",
      "User 497: Standard access granted\n",
      "User 498: Insufficient trust score\n",
      "User 499: Standard access granted\n"
     ]
    }
   ],
   "source": [
    "edge_index = torch.tensor(list(G.edges())).t().contiguous()\n",
    "features = torch.tensor(X, dtype=torch.float32)\n",
    "labels = torch.tensor(y, dtype=torch.long)\n",
    "\n",
    "# 5️⃣ Training with SIR-based Loss\n",
    "model = TrustGCN()\n",
    "optimizer = torch.optim.Adam(model.parameters(), lr=0.005)\n",
    "\n",
    "for epoch in range(200):\n",
    "    model.train()\n",
    "    optimizer.zero_grad()\n",
    "\n",
    "    output = model(features, edge_index)\n",
    "    loss = F.nll_loss(output, labels)\n",
    "\n",
    "    loss.backward()\n",
    "    optimizer.step()\n",
    "\n",
    "    if epoch % 10 == 0:\n",
    "        print(f'Epoch {epoch}, Loss: {loss.item():.4f}')\n",
    "\n",
    "# 6️⃣ Trust Evaluation and Access Control\n",
    "with torch.no_grad():\n",
    "    model.eval()\n",
    "    log_probs = model(features,edge_index)\n",
    "    influence_scores = torch.exp(log_probs[:, 1])\n",
    "\n",
    "trust_scores = influence_scores.numpy()\n",
    "\n",
    "num, bins = np.histogram(trust_scores, bins=10)\n",
    "bin_width = bins[1] - bins[0]\n",
    "bin_centers = (bins[:-1] + bins[1:]) / 2\n",
    "\n",
    "plt.bar(bin_centers, num, width=bin_width, align='center')\n",
    "plt.xlabel(\"Trust Scores\")\n",
    "plt.ylabel(\"Number of People\")\n",
    "plt.title(\"Distribution of Trust Scores\")\n",
    "plt.show()\n",
    "\n",
    "trust_threshold = 0.7\n",
    "connection_fading = 0.5\n",
    "\n",
    "def grant_access(user_id):\n",
    "    department = df.iloc[user_id][4:8].idxmax().split('_')[1]\n",
    "    trust = trust_scores[user_id]\n",
    "\n",
    "    if trust < trust_threshold:\n",
    "        return False, \"Insufficient trust score\"\n",
    "\n",
    "    if department == '3':\n",
    "        return True, \"Full access granted\"\n",
    "    else:\n",
    "        return True, \"Standard access granted\"\n",
    "\n",
    "for user_id in df.index:\n",
    "    access, message = grant_access(user_id)\n",
    "    print(f\"User {user_id}: {message}\")\n",
    "\n",
    "def apply_fading_factor(G, pl, di):\n",
    "    rho = (1 - pl + di) / 2\n",
    "    for u, v in G.edges():\n",
    "        G[u][v]['weight'] *= rho\n",
    "    return G"
   ]
  },
  {
   "cell_type": "code",
   "execution_count": 40,
   "metadata": {},
   "outputs": [
    {
     "data": {
      "text/plain": [
       "'torch.FloatTensor'"
      ]
     },
     "execution_count": 40,
     "metadata": {},
     "output_type": "execute_result"
    }
   ],
   "source": [
    "features.type()"
   ]
  },
  {
   "cell_type": "code",
   "execution_count": 60,
   "metadata": {},
   "outputs": [],
   "source": [
    "features = features.numpy()"
   ]
  },
  {
   "cell_type": "code",
   "execution_count": 61,
   "metadata": {},
   "outputs": [
    {
     "data": {
      "text/plain": [
       "(500, 4)"
      ]
     },
     "execution_count": 61,
     "metadata": {},
     "output_type": "execute_result"
    }
   ],
   "source": [
    "features.shape"
   ]
  },
  {
   "cell_type": "code",
   "execution_count": 62,
   "metadata": {},
   "outputs": [
    {
     "ename": "RuntimeError",
     "evalue": "index 100 is out of bounds for dimension 0 with size 100",
     "output_type": "error",
     "traceback": [
      "\u001b[0;31m---------------------------------------------------------------------------\u001b[0m",
      "\u001b[0;31mRuntimeError\u001b[0m                              Traceback (most recent call last)",
      "\u001b[0;32m/tmp/ipykernel_158702/2749533089.py\u001b[0m in \u001b[0;36m<module>\u001b[0;34m\u001b[0m\n\u001b[1;32m      5\u001b[0m \u001b[0;34m\u001b[0m\u001b[0m\n\u001b[1;32m      6\u001b[0m \u001b[0mexplainer\u001b[0m \u001b[0;34m=\u001b[0m \u001b[0mshap\u001b[0m\u001b[0;34m.\u001b[0m\u001b[0mExplainer\u001b[0m\u001b[0;34m(\u001b[0m\u001b[0mmodel_predict\u001b[0m\u001b[0;34m,\u001b[0m \u001b[0mfeatures\u001b[0m\u001b[0;34m)\u001b[0m\u001b[0;34m\u001b[0m\u001b[0;34m\u001b[0m\u001b[0m\n\u001b[0;32m----> 7\u001b[0;31m \u001b[0mshap_values\u001b[0m \u001b[0;34m=\u001b[0m \u001b[0mexplainer\u001b[0m\u001b[0;34m(\u001b[0m\u001b[0mfeatures\u001b[0m\u001b[0;34m)\u001b[0m\u001b[0;34m\u001b[0m\u001b[0;34m\u001b[0m\u001b[0m\n\u001b[0m\u001b[1;32m      8\u001b[0m \u001b[0mshap\u001b[0m\u001b[0;34m.\u001b[0m\u001b[0msummary_plot\u001b[0m\u001b[0;34m(\u001b[0m\u001b[0mshap_values\u001b[0m\u001b[0;34m,\u001b[0m \u001b[0mfeatures\u001b[0m\u001b[0;34m)\u001b[0m\u001b[0;34m\u001b[0m\u001b[0;34m\u001b[0m\u001b[0m\n",
      "\u001b[0;32m~/.local/lib/python3.10/site-packages/shap/explainers/_exact.py\u001b[0m in \u001b[0;36m__call__\u001b[0;34m(self, max_evals, main_effects, error_bounds, batch_size, interactions, silent, *args)\u001b[0m\n\u001b[1;32m     82\u001b[0m         \u001b[0;31m# we entirely rely on the general call implementation, we override just to remove **kwargs\u001b[0m\u001b[0;34m\u001b[0m\u001b[0;34m\u001b[0m\u001b[0m\n\u001b[1;32m     83\u001b[0m         \u001b[0;31m# from the function signature\u001b[0m\u001b[0;34m\u001b[0m\u001b[0;34m\u001b[0m\u001b[0m\n\u001b[0;32m---> 84\u001b[0;31m         return super().__call__(\n\u001b[0m\u001b[1;32m     85\u001b[0m             \u001b[0;34m*\u001b[0m\u001b[0margs\u001b[0m\u001b[0;34m,\u001b[0m\u001b[0;34m\u001b[0m\u001b[0;34m\u001b[0m\u001b[0m\n\u001b[1;32m     86\u001b[0m             \u001b[0mmax_evals\u001b[0m\u001b[0;34m=\u001b[0m\u001b[0mmax_evals\u001b[0m\u001b[0;34m,\u001b[0m\u001b[0;34m\u001b[0m\u001b[0;34m\u001b[0m\u001b[0m\n",
      "\u001b[0;32m~/.local/lib/python3.10/site-packages/shap/explainers/_explainer.py\u001b[0m in \u001b[0;36m__call__\u001b[0;34m(self, max_evals, main_effects, error_bounds, batch_size, outputs, silent, *args, **kwargs)\u001b[0m\n\u001b[1;32m    364\u001b[0m             \u001b[0mfeature_names\u001b[0m \u001b[0;34m=\u001b[0m \u001b[0;34m[\u001b[0m\u001b[0;34m[\u001b[0m\u001b[0;34m]\u001b[0m \u001b[0;32mfor\u001b[0m \u001b[0m_\u001b[0m \u001b[0;32min\u001b[0m \u001b[0mrange\u001b[0m\u001b[0;34m(\u001b[0m\u001b[0mlen\u001b[0m\u001b[0;34m(\u001b[0m\u001b[0margs\u001b[0m\u001b[0;34m)\u001b[0m\u001b[0;34m)\u001b[0m\u001b[0;34m]\u001b[0m\u001b[0;34m\u001b[0m\u001b[0;34m\u001b[0m\u001b[0m\n\u001b[1;32m    365\u001b[0m         \u001b[0;32mfor\u001b[0m \u001b[0mrow_args\u001b[0m \u001b[0;32min\u001b[0m \u001b[0mshow_progress\u001b[0m\u001b[0;34m(\u001b[0m\u001b[0mzip\u001b[0m\u001b[0;34m(\u001b[0m\u001b[0;34m*\u001b[0m\u001b[0margs\u001b[0m\u001b[0;34m)\u001b[0m\u001b[0;34m,\u001b[0m \u001b[0mnum_rows\u001b[0m\u001b[0;34m,\u001b[0m \u001b[0mself\u001b[0m\u001b[0;34m.\u001b[0m\u001b[0m__class__\u001b[0m\u001b[0;34m.\u001b[0m\u001b[0m__name__\u001b[0m \u001b[0;34m+\u001b[0m \u001b[0;34m\" explainer\"\u001b[0m\u001b[0;34m,\u001b[0m \u001b[0msilent\u001b[0m\u001b[0;34m)\u001b[0m\u001b[0;34m:\u001b[0m\u001b[0;34m\u001b[0m\u001b[0;34m\u001b[0m\u001b[0m\n\u001b[0;32m--> 366\u001b[0;31m             row_result = self.explain_row(\n\u001b[0m\u001b[1;32m    367\u001b[0m                 \u001b[0;34m*\u001b[0m\u001b[0mrow_args\u001b[0m\u001b[0;34m,\u001b[0m\u001b[0;34m\u001b[0m\u001b[0;34m\u001b[0m\u001b[0m\n\u001b[1;32m    368\u001b[0m                 \u001b[0mmax_evals\u001b[0m\u001b[0;34m=\u001b[0m\u001b[0mmax_evals\u001b[0m\u001b[0;34m,\u001b[0m\u001b[0;34m\u001b[0m\u001b[0;34m\u001b[0m\u001b[0m\n",
      "\u001b[0;32m~/.local/lib/python3.10/site-packages/shap/explainers/_exact.py\u001b[0m in \u001b[0;36mexplain_row\u001b[0;34m(self, max_evals, main_effects, error_bounds, batch_size, outputs, interactions, silent, *row_args)\u001b[0m\n\u001b[1;32m    128\u001b[0m \u001b[0;34m\u001b[0m\u001b[0m\n\u001b[1;32m    129\u001b[0m             \u001b[0;31m# run the model\u001b[0m\u001b[0;34m\u001b[0m\u001b[0;34m\u001b[0m\u001b[0m\n\u001b[0;32m--> 130\u001b[0;31m             \u001b[0moutputs\u001b[0m \u001b[0;34m=\u001b[0m \u001b[0mfm\u001b[0m\u001b[0;34m(\u001b[0m\u001b[0mextended_delta_indexes\u001b[0m\u001b[0;34m,\u001b[0m \u001b[0mzero_index\u001b[0m\u001b[0;34m=\u001b[0m\u001b[0;36m0\u001b[0m\u001b[0;34m,\u001b[0m \u001b[0mbatch_size\u001b[0m\u001b[0;34m=\u001b[0m\u001b[0mbatch_size\u001b[0m\u001b[0;34m)\u001b[0m\u001b[0;34m\u001b[0m\u001b[0;34m\u001b[0m\u001b[0m\n\u001b[0m\u001b[1;32m    131\u001b[0m \u001b[0;34m\u001b[0m\u001b[0m\n\u001b[1;32m    132\u001b[0m             \u001b[0;31m# Shapley values\u001b[0m\u001b[0;34m\u001b[0m\u001b[0;34m\u001b[0m\u001b[0m\n",
      "\u001b[0;32m~/.local/lib/python3.10/site-packages/shap/utils/_masked_model.py\u001b[0m in \u001b[0;36m__call__\u001b[0;34m(self, masks, zero_index, batch_size)\u001b[0m\n\u001b[1;32m     55\u001b[0m         \u001b[0;32mif\u001b[0m \u001b[0mlen\u001b[0m\u001b[0;34m(\u001b[0m\u001b[0mmasks\u001b[0m\u001b[0;34m.\u001b[0m\u001b[0mshape\u001b[0m\u001b[0;34m)\u001b[0m \u001b[0;34m==\u001b[0m \u001b[0;36m1\u001b[0m\u001b[0;34m:\u001b[0m\u001b[0;34m\u001b[0m\u001b[0;34m\u001b[0m\u001b[0m\n\u001b[1;32m     56\u001b[0m             \u001b[0;32mif\u001b[0m \u001b[0mgetattr\u001b[0m\u001b[0;34m(\u001b[0m\u001b[0mself\u001b[0m\u001b[0;34m.\u001b[0m\u001b[0mmasker\u001b[0m\u001b[0;34m,\u001b[0m \u001b[0;34m\"supports_delta_masking\"\u001b[0m\u001b[0;34m,\u001b[0m \u001b[0;32mFalse\u001b[0m\u001b[0;34m)\u001b[0m\u001b[0;34m:\u001b[0m\u001b[0;34m\u001b[0m\u001b[0;34m\u001b[0m\u001b[0m\n\u001b[0;32m---> 57\u001b[0;31m                 \u001b[0;32mreturn\u001b[0m \u001b[0mself\u001b[0m\u001b[0;34m.\u001b[0m\u001b[0m_delta_masking_call\u001b[0m\u001b[0;34m(\u001b[0m\u001b[0mmasks\u001b[0m\u001b[0;34m,\u001b[0m \u001b[0mzero_index\u001b[0m\u001b[0;34m=\u001b[0m\u001b[0mzero_index\u001b[0m\u001b[0;34m,\u001b[0m \u001b[0mbatch_size\u001b[0m\u001b[0;34m=\u001b[0m\u001b[0mbatch_size\u001b[0m\u001b[0;34m)\u001b[0m\u001b[0;34m\u001b[0m\u001b[0;34m\u001b[0m\u001b[0m\n\u001b[0m\u001b[1;32m     58\u001b[0m \u001b[0;34m\u001b[0m\u001b[0m\n\u001b[1;32m     59\u001b[0m             \u001b[0;31m# we need to convert from delta masking to a full masking call because we were given a delta masking\u001b[0m\u001b[0;34m\u001b[0m\u001b[0;34m\u001b[0m\u001b[0m\n",
      "\u001b[0;32m~/.local/lib/python3.10/site-packages/shap/utils/_masked_model.py\u001b[0m in \u001b[0;36m_delta_masking_call\u001b[0;34m(self, masks, zero_index, batch_size)\u001b[0m\n\u001b[1;32m    207\u001b[0m \u001b[0;34m\u001b[0m\u001b[0m\n\u001b[1;32m    208\u001b[0m         \u001b[0;31m# joined_masked_inputs = self._stack_inputs(all_masked_inputs)\u001b[0m\u001b[0;34m\u001b[0m\u001b[0;34m\u001b[0m\u001b[0m\n\u001b[0;32m--> 209\u001b[0;31m         \u001b[0moutputs\u001b[0m \u001b[0;34m=\u001b[0m \u001b[0mself\u001b[0m\u001b[0;34m.\u001b[0m\u001b[0mmodel\u001b[0m\u001b[0;34m(\u001b[0m\u001b[0;34m*\u001b[0m\u001b[0msubset_masked_inputs\u001b[0m\u001b[0;34m)\u001b[0m\u001b[0;34m\u001b[0m\u001b[0;34m\u001b[0m\u001b[0m\n\u001b[0m\u001b[1;32m    210\u001b[0m         \u001b[0m_assert_output_input_match\u001b[0m\u001b[0;34m(\u001b[0m\u001b[0msubset_masked_inputs\u001b[0m\u001b[0;34m,\u001b[0m \u001b[0moutputs\u001b[0m\u001b[0;34m)\u001b[0m\u001b[0;34m\u001b[0m\u001b[0;34m\u001b[0m\u001b[0m\n\u001b[1;32m    211\u001b[0m \u001b[0;34m\u001b[0m\u001b[0m\n",
      "\u001b[0;32m~/.local/lib/python3.10/site-packages/shap/models/_model.py\u001b[0m in \u001b[0;36m__call__\u001b[0;34m(self, *args)\u001b[0m\n\u001b[1;32m     21\u001b[0m \u001b[0;34m\u001b[0m\u001b[0m\n\u001b[1;32m     22\u001b[0m     \u001b[0;32mdef\u001b[0m \u001b[0m__call__\u001b[0m\u001b[0;34m(\u001b[0m\u001b[0mself\u001b[0m\u001b[0;34m,\u001b[0m \u001b[0;34m*\u001b[0m\u001b[0margs\u001b[0m\u001b[0;34m)\u001b[0m\u001b[0;34m:\u001b[0m\u001b[0;34m\u001b[0m\u001b[0;34m\u001b[0m\u001b[0m\n\u001b[0;32m---> 23\u001b[0;31m         \u001b[0mout\u001b[0m \u001b[0;34m=\u001b[0m \u001b[0mself\u001b[0m\u001b[0;34m.\u001b[0m\u001b[0minner_model\u001b[0m\u001b[0;34m(\u001b[0m\u001b[0;34m*\u001b[0m\u001b[0margs\u001b[0m\u001b[0;34m)\u001b[0m\u001b[0;34m\u001b[0m\u001b[0;34m\u001b[0m\u001b[0m\n\u001b[0m\u001b[1;32m     24\u001b[0m         \u001b[0mis_tensor\u001b[0m \u001b[0;34m=\u001b[0m \u001b[0msafe_isinstance\u001b[0m\u001b[0;34m(\u001b[0m\u001b[0mout\u001b[0m\u001b[0;34m,\u001b[0m \u001b[0;34m\"torch.Tensor\"\u001b[0m\u001b[0;34m)\u001b[0m\u001b[0;34m\u001b[0m\u001b[0;34m\u001b[0m\u001b[0m\n\u001b[1;32m     25\u001b[0m         \u001b[0mout\u001b[0m \u001b[0;34m=\u001b[0m \u001b[0mout\u001b[0m\u001b[0;34m.\u001b[0m\u001b[0mcpu\u001b[0m\u001b[0;34m(\u001b[0m\u001b[0;34m)\u001b[0m\u001b[0;34m.\u001b[0m\u001b[0mdetach\u001b[0m\u001b[0;34m(\u001b[0m\u001b[0;34m)\u001b[0m\u001b[0;34m.\u001b[0m\u001b[0mnumpy\u001b[0m\u001b[0;34m(\u001b[0m\u001b[0;34m)\u001b[0m \u001b[0;32mif\u001b[0m \u001b[0mis_tensor\u001b[0m \u001b[0;32melse\u001b[0m \u001b[0mnp\u001b[0m\u001b[0;34m.\u001b[0m\u001b[0marray\u001b[0m\u001b[0;34m(\u001b[0m\u001b[0mout\u001b[0m\u001b[0;34m)\u001b[0m\u001b[0;34m\u001b[0m\u001b[0;34m\u001b[0m\u001b[0m\n",
      "\u001b[0;32m/tmp/ipykernel_158702/2749533089.py\u001b[0m in \u001b[0;36mmodel_predict\u001b[0;34m(X)\u001b[0m\n\u001b[1;32m      2\u001b[0m \u001b[0;32mdef\u001b[0m \u001b[0mmodel_predict\u001b[0m\u001b[0;34m(\u001b[0m\u001b[0mX\u001b[0m\u001b[0;34m)\u001b[0m\u001b[0;34m:\u001b[0m\u001b[0;34m\u001b[0m\u001b[0;34m\u001b[0m\u001b[0m\n\u001b[1;32m      3\u001b[0m     \u001b[0mX_tensor\u001b[0m \u001b[0;34m=\u001b[0m \u001b[0mtorch\u001b[0m\u001b[0;34m.\u001b[0m\u001b[0mtensor\u001b[0m\u001b[0;34m(\u001b[0m\u001b[0mX\u001b[0m\u001b[0;34m,\u001b[0m \u001b[0mdtype\u001b[0m\u001b[0;34m=\u001b[0m\u001b[0mtorch\u001b[0m\u001b[0;34m.\u001b[0m\u001b[0mfloat\u001b[0m\u001b[0;34m)\u001b[0m\u001b[0;34m\u001b[0m\u001b[0;34m\u001b[0m\u001b[0m\n\u001b[0;32m----> 4\u001b[0;31m     \u001b[0;32mreturn\u001b[0m \u001b[0mmodel\u001b[0m\u001b[0;34m(\u001b[0m\u001b[0mX_tensor\u001b[0m\u001b[0;34m,\u001b[0m \u001b[0medge_index\u001b[0m\u001b[0;34m)\u001b[0m\u001b[0;34m.\u001b[0m\u001b[0mdetach\u001b[0m\u001b[0;34m(\u001b[0m\u001b[0;34m)\u001b[0m\u001b[0;34m.\u001b[0m\u001b[0mnumpy\u001b[0m\u001b[0;34m(\u001b[0m\u001b[0;34m)\u001b[0m\u001b[0;34m\u001b[0m\u001b[0;34m\u001b[0m\u001b[0m\n\u001b[0m\u001b[1;32m      5\u001b[0m \u001b[0;34m\u001b[0m\u001b[0m\n\u001b[1;32m      6\u001b[0m \u001b[0mexplainer\u001b[0m \u001b[0;34m=\u001b[0m \u001b[0mshap\u001b[0m\u001b[0;34m.\u001b[0m\u001b[0mExplainer\u001b[0m\u001b[0;34m(\u001b[0m\u001b[0mmodel_predict\u001b[0m\u001b[0;34m,\u001b[0m \u001b[0mfeatures\u001b[0m\u001b[0;34m)\u001b[0m\u001b[0;34m\u001b[0m\u001b[0;34m\u001b[0m\u001b[0m\n",
      "\u001b[0;32m~/.local/lib/python3.10/site-packages/torch/nn/modules/module.py\u001b[0m in \u001b[0;36m_wrapped_call_impl\u001b[0;34m(self, *args, **kwargs)\u001b[0m\n\u001b[1;32m   1737\u001b[0m             \u001b[0;32mreturn\u001b[0m \u001b[0mself\u001b[0m\u001b[0;34m.\u001b[0m\u001b[0m_compiled_call_impl\u001b[0m\u001b[0;34m(\u001b[0m\u001b[0;34m*\u001b[0m\u001b[0margs\u001b[0m\u001b[0;34m,\u001b[0m \u001b[0;34m**\u001b[0m\u001b[0mkwargs\u001b[0m\u001b[0;34m)\u001b[0m  \u001b[0;31m# type: ignore[misc]\u001b[0m\u001b[0;34m\u001b[0m\u001b[0;34m\u001b[0m\u001b[0m\n\u001b[1;32m   1738\u001b[0m         \u001b[0;32melse\u001b[0m\u001b[0;34m:\u001b[0m\u001b[0;34m\u001b[0m\u001b[0;34m\u001b[0m\u001b[0m\n\u001b[0;32m-> 1739\u001b[0;31m             \u001b[0;32mreturn\u001b[0m \u001b[0mself\u001b[0m\u001b[0;34m.\u001b[0m\u001b[0m_call_impl\u001b[0m\u001b[0;34m(\u001b[0m\u001b[0;34m*\u001b[0m\u001b[0margs\u001b[0m\u001b[0;34m,\u001b[0m \u001b[0;34m**\u001b[0m\u001b[0mkwargs\u001b[0m\u001b[0;34m)\u001b[0m\u001b[0;34m\u001b[0m\u001b[0;34m\u001b[0m\u001b[0m\n\u001b[0m\u001b[1;32m   1740\u001b[0m \u001b[0;34m\u001b[0m\u001b[0m\n\u001b[1;32m   1741\u001b[0m     \u001b[0;31m# torchrec tests the code consistency with the following code\u001b[0m\u001b[0;34m\u001b[0m\u001b[0;34m\u001b[0m\u001b[0m\n",
      "\u001b[0;32m~/.local/lib/python3.10/site-packages/torch/nn/modules/module.py\u001b[0m in \u001b[0;36m_call_impl\u001b[0;34m(self, *args, **kwargs)\u001b[0m\n\u001b[1;32m   1748\u001b[0m                 \u001b[0;32mor\u001b[0m \u001b[0m_global_backward_pre_hooks\u001b[0m \u001b[0;32mor\u001b[0m \u001b[0m_global_backward_hooks\u001b[0m\u001b[0;34m\u001b[0m\u001b[0;34m\u001b[0m\u001b[0m\n\u001b[1;32m   1749\u001b[0m                 or _global_forward_hooks or _global_forward_pre_hooks):\n\u001b[0;32m-> 1750\u001b[0;31m             \u001b[0;32mreturn\u001b[0m \u001b[0mforward_call\u001b[0m\u001b[0;34m(\u001b[0m\u001b[0;34m*\u001b[0m\u001b[0margs\u001b[0m\u001b[0;34m,\u001b[0m \u001b[0;34m**\u001b[0m\u001b[0mkwargs\u001b[0m\u001b[0;34m)\u001b[0m\u001b[0;34m\u001b[0m\u001b[0;34m\u001b[0m\u001b[0m\n\u001b[0m\u001b[1;32m   1751\u001b[0m \u001b[0;34m\u001b[0m\u001b[0m\n\u001b[1;32m   1752\u001b[0m         \u001b[0mresult\u001b[0m \u001b[0;34m=\u001b[0m \u001b[0;32mNone\u001b[0m\u001b[0;34m\u001b[0m\u001b[0;34m\u001b[0m\u001b[0m\n",
      "\u001b[0;32m/tmp/ipykernel_158702/377949498.py\u001b[0m in \u001b[0;36mforward\u001b[0;34m(self, x, edge_index)\u001b[0m\n\u001b[1;32m     13\u001b[0m \u001b[0;34m\u001b[0m\u001b[0m\n\u001b[1;32m     14\u001b[0m     \u001b[0;32mdef\u001b[0m \u001b[0mforward\u001b[0m\u001b[0;34m(\u001b[0m\u001b[0mself\u001b[0m\u001b[0;34m,\u001b[0m \u001b[0mx\u001b[0m\u001b[0;34m,\u001b[0m \u001b[0medge_index\u001b[0m\u001b[0;34m)\u001b[0m\u001b[0;34m:\u001b[0m\u001b[0;34m\u001b[0m\u001b[0;34m\u001b[0m\u001b[0m\n\u001b[0;32m---> 15\u001b[0;31m         \u001b[0mx\u001b[0m \u001b[0;34m=\u001b[0m \u001b[0mF\u001b[0m\u001b[0;34m.\u001b[0m\u001b[0melu\u001b[0m\u001b[0;34m(\u001b[0m\u001b[0mself\u001b[0m\u001b[0;34m.\u001b[0m\u001b[0mconv1\u001b[0m\u001b[0;34m(\u001b[0m\u001b[0mx\u001b[0m\u001b[0;34m,\u001b[0m \u001b[0medge_index\u001b[0m\u001b[0;34m)\u001b[0m\u001b[0;34m)\u001b[0m\u001b[0;34m\u001b[0m\u001b[0;34m\u001b[0m\u001b[0m\n\u001b[0m\u001b[1;32m     16\u001b[0m         \u001b[0mx\u001b[0m \u001b[0;34m=\u001b[0m \u001b[0mF\u001b[0m\u001b[0;34m.\u001b[0m\u001b[0melu\u001b[0m\u001b[0;34m(\u001b[0m\u001b[0mself\u001b[0m\u001b[0;34m.\u001b[0m\u001b[0mconv2\u001b[0m\u001b[0;34m(\u001b[0m\u001b[0mx\u001b[0m\u001b[0;34m,\u001b[0m \u001b[0medge_index\u001b[0m\u001b[0;34m)\u001b[0m\u001b[0;34m)\u001b[0m\u001b[0;34m\u001b[0m\u001b[0;34m\u001b[0m\u001b[0m\n\u001b[1;32m     17\u001b[0m         \u001b[0mx\u001b[0m \u001b[0;34m=\u001b[0m \u001b[0mF\u001b[0m\u001b[0;34m.\u001b[0m\u001b[0melu\u001b[0m\u001b[0;34m(\u001b[0m\u001b[0mself\u001b[0m\u001b[0;34m.\u001b[0m\u001b[0mconv3\u001b[0m\u001b[0;34m(\u001b[0m\u001b[0mx\u001b[0m\u001b[0;34m,\u001b[0m \u001b[0medge_index\u001b[0m\u001b[0;34m)\u001b[0m\u001b[0;34m)\u001b[0m\u001b[0;34m\u001b[0m\u001b[0;34m\u001b[0m\u001b[0m\n",
      "\u001b[0;32m~/.local/lib/python3.10/site-packages/torch/nn/modules/module.py\u001b[0m in \u001b[0;36m_wrapped_call_impl\u001b[0;34m(self, *args, **kwargs)\u001b[0m\n\u001b[1;32m   1737\u001b[0m             \u001b[0;32mreturn\u001b[0m \u001b[0mself\u001b[0m\u001b[0;34m.\u001b[0m\u001b[0m_compiled_call_impl\u001b[0m\u001b[0;34m(\u001b[0m\u001b[0;34m*\u001b[0m\u001b[0margs\u001b[0m\u001b[0;34m,\u001b[0m \u001b[0;34m**\u001b[0m\u001b[0mkwargs\u001b[0m\u001b[0;34m)\u001b[0m  \u001b[0;31m# type: ignore[misc]\u001b[0m\u001b[0;34m\u001b[0m\u001b[0;34m\u001b[0m\u001b[0m\n\u001b[1;32m   1738\u001b[0m         \u001b[0;32melse\u001b[0m\u001b[0;34m:\u001b[0m\u001b[0;34m\u001b[0m\u001b[0;34m\u001b[0m\u001b[0m\n\u001b[0;32m-> 1739\u001b[0;31m             \u001b[0;32mreturn\u001b[0m \u001b[0mself\u001b[0m\u001b[0;34m.\u001b[0m\u001b[0m_call_impl\u001b[0m\u001b[0;34m(\u001b[0m\u001b[0;34m*\u001b[0m\u001b[0margs\u001b[0m\u001b[0;34m,\u001b[0m \u001b[0;34m**\u001b[0m\u001b[0mkwargs\u001b[0m\u001b[0;34m)\u001b[0m\u001b[0;34m\u001b[0m\u001b[0;34m\u001b[0m\u001b[0m\n\u001b[0m\u001b[1;32m   1740\u001b[0m \u001b[0;34m\u001b[0m\u001b[0m\n\u001b[1;32m   1741\u001b[0m     \u001b[0;31m# torchrec tests the code consistency with the following code\u001b[0m\u001b[0;34m\u001b[0m\u001b[0;34m\u001b[0m\u001b[0m\n",
      "\u001b[0;32m~/.local/lib/python3.10/site-packages/torch/nn/modules/module.py\u001b[0m in \u001b[0;36m_call_impl\u001b[0;34m(self, *args, **kwargs)\u001b[0m\n\u001b[1;32m   1748\u001b[0m                 \u001b[0;32mor\u001b[0m \u001b[0m_global_backward_pre_hooks\u001b[0m \u001b[0;32mor\u001b[0m \u001b[0m_global_backward_hooks\u001b[0m\u001b[0;34m\u001b[0m\u001b[0;34m\u001b[0m\u001b[0m\n\u001b[1;32m   1749\u001b[0m                 or _global_forward_hooks or _global_forward_pre_hooks):\n\u001b[0;32m-> 1750\u001b[0;31m             \u001b[0;32mreturn\u001b[0m \u001b[0mforward_call\u001b[0m\u001b[0;34m(\u001b[0m\u001b[0;34m*\u001b[0m\u001b[0margs\u001b[0m\u001b[0;34m,\u001b[0m \u001b[0;34m**\u001b[0m\u001b[0mkwargs\u001b[0m\u001b[0;34m)\u001b[0m\u001b[0;34m\u001b[0m\u001b[0;34m\u001b[0m\u001b[0m\n\u001b[0m\u001b[1;32m   1751\u001b[0m \u001b[0;34m\u001b[0m\u001b[0m\n\u001b[1;32m   1752\u001b[0m         \u001b[0mresult\u001b[0m \u001b[0;34m=\u001b[0m \u001b[0;32mNone\u001b[0m\u001b[0;34m\u001b[0m\u001b[0;34m\u001b[0m\u001b[0m\n",
      "\u001b[0;32m~/.local/lib/python3.10/site-packages/torch_geometric/nn/conv/gcn_conv.py\u001b[0m in \u001b[0;36mforward\u001b[0;34m(self, x, edge_index, edge_weight)\u001b[0m\n\u001b[1;32m    239\u001b[0m                 \u001b[0mcache\u001b[0m \u001b[0;34m=\u001b[0m \u001b[0mself\u001b[0m\u001b[0;34m.\u001b[0m\u001b[0m_cached_edge_index\u001b[0m\u001b[0;34m\u001b[0m\u001b[0;34m\u001b[0m\u001b[0m\n\u001b[1;32m    240\u001b[0m                 \u001b[0;32mif\u001b[0m \u001b[0mcache\u001b[0m \u001b[0;32mis\u001b[0m \u001b[0;32mNone\u001b[0m\u001b[0;34m:\u001b[0m\u001b[0;34m\u001b[0m\u001b[0;34m\u001b[0m\u001b[0m\n\u001b[0;32m--> 241\u001b[0;31m                     edge_index, edge_weight = gcn_norm(  # yapf: disable\n\u001b[0m\u001b[1;32m    242\u001b[0m                         \u001b[0medge_index\u001b[0m\u001b[0;34m,\u001b[0m \u001b[0medge_weight\u001b[0m\u001b[0;34m,\u001b[0m \u001b[0mx\u001b[0m\u001b[0;34m.\u001b[0m\u001b[0msize\u001b[0m\u001b[0;34m(\u001b[0m\u001b[0mself\u001b[0m\u001b[0;34m.\u001b[0m\u001b[0mnode_dim\u001b[0m\u001b[0;34m)\u001b[0m\u001b[0;34m,\u001b[0m\u001b[0;34m\u001b[0m\u001b[0;34m\u001b[0m\u001b[0m\n\u001b[1;32m    243\u001b[0m                         self.improved, self.add_self_loops, self.flow, x.dtype)\n",
      "\u001b[0;32m~/.local/lib/python3.10/site-packages/torch_geometric/nn/conv/gcn_conv.py\u001b[0m in \u001b[0;36mgcn_norm\u001b[0;34m(edge_index, edge_weight, num_nodes, improved, add_self_loops, flow, dtype)\u001b[0m\n\u001b[1;32m    106\u001b[0m     \u001b[0mrow\u001b[0m\u001b[0;34m,\u001b[0m \u001b[0mcol\u001b[0m \u001b[0;34m=\u001b[0m \u001b[0medge_index\u001b[0m\u001b[0;34m[\u001b[0m\u001b[0;36m0\u001b[0m\u001b[0;34m]\u001b[0m\u001b[0;34m,\u001b[0m \u001b[0medge_index\u001b[0m\u001b[0;34m[\u001b[0m\u001b[0;36m1\u001b[0m\u001b[0;34m]\u001b[0m\u001b[0;34m\u001b[0m\u001b[0;34m\u001b[0m\u001b[0m\n\u001b[1;32m    107\u001b[0m     \u001b[0midx\u001b[0m \u001b[0;34m=\u001b[0m \u001b[0mcol\u001b[0m \u001b[0;32mif\u001b[0m \u001b[0mflow\u001b[0m \u001b[0;34m==\u001b[0m \u001b[0;34m'source_to_target'\u001b[0m \u001b[0;32melse\u001b[0m \u001b[0mrow\u001b[0m\u001b[0;34m\u001b[0m\u001b[0;34m\u001b[0m\u001b[0m\n\u001b[0;32m--> 108\u001b[0;31m     \u001b[0mdeg\u001b[0m \u001b[0;34m=\u001b[0m \u001b[0mscatter\u001b[0m\u001b[0;34m(\u001b[0m\u001b[0medge_weight\u001b[0m\u001b[0;34m,\u001b[0m \u001b[0midx\u001b[0m\u001b[0;34m,\u001b[0m \u001b[0mdim\u001b[0m\u001b[0;34m=\u001b[0m\u001b[0;36m0\u001b[0m\u001b[0;34m,\u001b[0m \u001b[0mdim_size\u001b[0m\u001b[0;34m=\u001b[0m\u001b[0mnum_nodes\u001b[0m\u001b[0;34m,\u001b[0m \u001b[0mreduce\u001b[0m\u001b[0;34m=\u001b[0m\u001b[0;34m'sum'\u001b[0m\u001b[0;34m)\u001b[0m\u001b[0;34m\u001b[0m\u001b[0;34m\u001b[0m\u001b[0m\n\u001b[0m\u001b[1;32m    109\u001b[0m     \u001b[0mdeg_inv_sqrt\u001b[0m \u001b[0;34m=\u001b[0m \u001b[0mdeg\u001b[0m\u001b[0;34m.\u001b[0m\u001b[0mpow_\u001b[0m\u001b[0;34m(\u001b[0m\u001b[0;34m-\u001b[0m\u001b[0;36m0.5\u001b[0m\u001b[0;34m)\u001b[0m\u001b[0;34m\u001b[0m\u001b[0;34m\u001b[0m\u001b[0m\n\u001b[1;32m    110\u001b[0m     \u001b[0mdeg_inv_sqrt\u001b[0m\u001b[0;34m.\u001b[0m\u001b[0mmasked_fill_\u001b[0m\u001b[0;34m(\u001b[0m\u001b[0mdeg_inv_sqrt\u001b[0m \u001b[0;34m==\u001b[0m \u001b[0mfloat\u001b[0m\u001b[0;34m(\u001b[0m\u001b[0;34m'inf'\u001b[0m\u001b[0;34m)\u001b[0m\u001b[0;34m,\u001b[0m \u001b[0;36m0\u001b[0m\u001b[0;34m)\u001b[0m\u001b[0;34m\u001b[0m\u001b[0;34m\u001b[0m\u001b[0m\n",
      "\u001b[0;32m~/.local/lib/python3.10/site-packages/torch_geometric/utils/_scatter.py\u001b[0m in \u001b[0;36mscatter\u001b[0;34m(src, index, dim, dim_size, reduce)\u001b[0m\n\u001b[1;32m     73\u001b[0m         \u001b[0;32mif\u001b[0m \u001b[0mreduce\u001b[0m \u001b[0;34m==\u001b[0m \u001b[0;34m'sum'\u001b[0m \u001b[0;32mor\u001b[0m \u001b[0mreduce\u001b[0m \u001b[0;34m==\u001b[0m \u001b[0;34m'add'\u001b[0m\u001b[0;34m:\u001b[0m\u001b[0;34m\u001b[0m\u001b[0;34m\u001b[0m\u001b[0m\n\u001b[1;32m     74\u001b[0m             \u001b[0mindex\u001b[0m \u001b[0;34m=\u001b[0m \u001b[0mbroadcast\u001b[0m\u001b[0;34m(\u001b[0m\u001b[0mindex\u001b[0m\u001b[0;34m,\u001b[0m \u001b[0msrc\u001b[0m\u001b[0;34m,\u001b[0m \u001b[0mdim\u001b[0m\u001b[0;34m)\u001b[0m\u001b[0;34m\u001b[0m\u001b[0;34m\u001b[0m\u001b[0m\n\u001b[0;32m---> 75\u001b[0;31m             \u001b[0;32mreturn\u001b[0m \u001b[0msrc\u001b[0m\u001b[0;34m.\u001b[0m\u001b[0mnew_zeros\u001b[0m\u001b[0;34m(\u001b[0m\u001b[0msize\u001b[0m\u001b[0;34m)\u001b[0m\u001b[0;34m.\u001b[0m\u001b[0mscatter_add_\u001b[0m\u001b[0;34m(\u001b[0m\u001b[0mdim\u001b[0m\u001b[0;34m,\u001b[0m \u001b[0mindex\u001b[0m\u001b[0;34m,\u001b[0m \u001b[0msrc\u001b[0m\u001b[0;34m)\u001b[0m\u001b[0;34m\u001b[0m\u001b[0;34m\u001b[0m\u001b[0m\n\u001b[0m\u001b[1;32m     76\u001b[0m \u001b[0;34m\u001b[0m\u001b[0m\n\u001b[1;32m     77\u001b[0m         \u001b[0;32mif\u001b[0m \u001b[0mreduce\u001b[0m \u001b[0;34m==\u001b[0m \u001b[0;34m'mean'\u001b[0m\u001b[0;34m:\u001b[0m\u001b[0;34m\u001b[0m\u001b[0;34m\u001b[0m\u001b[0m\n",
      "\u001b[0;31mRuntimeError\u001b[0m: index 100 is out of bounds for dimension 0 with size 100"
     ]
    }
   ],
   "source": [
    "### 7️⃣ Apply SHAP for Explainability ###\n",
    "def model_predict(X):\n",
    "    X_tensor = torch.tensor(X, dtype=torch.float)\n",
    "    return model(X_tensor, edge_index).detach().numpy()\n",
    "\n",
    "explainer = shap.Explainer(model_predict, features)\n",
    "shap_values = explainer(features)\n",
    "shap.summary_plot(shap_values, features)"
   ]
  },
  {
   "cell_type": "code",
   "execution_count": 19,
   "metadata": {},
   "outputs": [],
   "source": [
    "user_ids_to_explain = list(range(5))"
   ]
  },
  {
   "cell_type": "code",
   "execution_count": null,
   "metadata": {},
   "outputs": [],
   "source": [
    "print(features.shape)"
   ]
  },
  {
   "cell_type": "code",
   "execution_count": null,
   "metadata": {},
   "outputs": [],
   "source": [
    "numpy_array = features.cpu().numpy()\n",
    "\n",
    "    # Create a Pandas DataFrame from the NumPy array\n",
    "dataframe = pd.DataFrame(numpy_array)"
   ]
  },
  {
   "cell_type": "code",
   "execution_count": 20,
   "metadata": {},
   "outputs": [],
   "source": [
    "# Add these imports at the top of your file\n",
    "import shap\n",
    "import lime\n",
    "import lime.lime_tabular\n",
    "from sklearn.ensemble import RandomForestClassifier\n",
    "\n",
    "\n",
    "\n"
   ]
  },
  {
   "cell_type": "code",
   "execution_count": null,
   "metadata": {},
   "outputs": [],
   "source": [
    "\n",
    "num_samples = 50 #Reduced to 50 for this example.\n",
    "selected_features = features[:num_samples]\n",
    "mask = (edge_index[0] < num_samples) & (edge_index[1] < num_samples)\n",
    "selected_edge_index = edge_index[:, mask]\n",
    "\n",
    "#Debugging code.\n",
    "print(f\"Max edge index value: {torch.max(selected_edge_index)}\")\n",
    "print(f\"Number of nodes: {selected_features.shape[0]}\")\n",
    "\n",
    "class TrustGCNWrapper(nn.Module):\n",
    "    def __init__(self, model, edge_index):\n",
    "        super(TrustGCNWrapper, self).__init__()\n",
    "        self.model = model\n",
    "        self.edge_index = edge_index\n",
    "\n",
    "    def forward(self, x):\n",
    "        return self.model(x, self.edge_index)\n",
    "\n",
    "wrapped_model = TrustGCNWrapper(model, selected_edge_index)\n",
    "\n",
    "explainer = shap.GradientExplainer(wrapped_model, selected_features)\n",
    "shap_values = explainer.shap_values(selected_features)\n",
    "\n",
    "print(shap_values.shape)"
   ]
  },
  {
   "cell_type": "code",
   "execution_count": null,
   "metadata": {},
   "outputs": [],
   "source": [
    "shap.dependence_plot(centralities, shap_values[0], features)"
   ]
  },
  {
   "cell_type": "code",
   "execution_count": null,
   "metadata": {},
   "outputs": [],
   "source": [
    "explain_with_shap(model, features, edge_index, user_ids_to_explain)"
   ]
  },
  {
   "cell_type": "code",
   "execution_count": 21,
   "metadata": {},
   "outputs": [
    {
     "name": "stdout",
     "output_type": "stream",
     "text": [
      "tensor([[1.0040, 0.0000, 1.0000, 0.0447],\n",
      "        [1.0040, 0.0000, 1.0000, 0.0447],\n",
      "        [1.0040, 0.0000, 1.0000, 0.0447],\n",
      "        ...,\n",
      "        [1.0040, 0.0000, 1.0000, 0.0447],\n",
      "        [1.0040, 0.0000, 1.0000, 0.0447],\n",
      "        [1.0040, 0.0000, 1.0000, 0.0447]])\n"
     ]
    }
   ],
   "source": [
    "import shap\n",
    "import lime\n",
    "import lime.lime_tabular\n",
    "from sklearn.ensemble import RandomForestClassifier\n",
    "\n",
    "# After your model training, add these explainability functions:\n",
    "print(features)\n",
    "def explain_with_shap(model, features, edge_index, user_ids_to_explain):\n",
    "    \"\"\"\n",
    "    Use SHAP to explain model decisions for specific users\n",
    "    \"\"\"\n",
    "    # Create a wrapper function that returns probabilities for both classes\n",
    "    def model_wrapper(x):\n",
    "        if len(x.shape) == 1:\n",
    "            x = x.reshape(1, -1)\n",
    "        x_tensor = torch.tensor(x, dtype=torch.float32)\n",
    "        with torch.no_grad():\n",
    "            out = model(x_tensor, edge_index)\n",
    "        return torch.exp(out).numpy()  # Convert log-probs to probabilities\n",
    "    background = features.numpy()  # Use the actual feature matrix\n",
    "    # Initialize SHAP explainer with background samples\n",
    "      # Use 10 background samples\n",
    "    explainer = shap.KernelExplainer(\n",
    "        model_wrapper,\n",
    "        background,\n",
    "        link=\"logit\"\n",
    "    )\n",
    "    \n",
    "    explanations = {}\n",
    "    for user_id in user_ids_to_explain:\n",
    "        try:\n",
    "            # Get SHAP values for this user\n",
    "            user_features = features[user_id].numpy().reshape(1, -1)\n",
    "            shap_values = explainer.shap_values(\n",
    "                    user_features,\n",
    "                    nsamples=100\n",
    "                )\n",
    "            \n",
    "            # For binary classification, SHAP returns values for both classes\n",
    "            if isinstance(shap_values, list):\n",
    "                # Use values for the positive class (trusted)\n",
    "                shap_values = shap_values[1]\n",
    "            \n",
    "            # Store explanation\n",
    "            explanations[user_id] = {\n",
    "                'features': ['degree', 'betweenness', 'closeness', 'eigenvector'],\n",
    "                'shap_values': shap_values[0],  # Get first (and only) sample\n",
    "                'base_value': explainer.expected_value[1],\n",
    "                'trust_score': trust_scores[user_id],\n",
    "                'access_granted': trust_scores[user_id] >= trust_threshold\n",
    "            }\n",
    "            \n",
    "            # Plot the explanation\n",
    "            shap.force_plot(\n",
    "                explainer.expected_value[1],\n",
    "                shap_values[0],\n",
    "                user_features[0],  # Use the flattened features\n",
    "                feature_names=['degree', 'betweenness', 'closeness', 'eigenvector'],\n",
    "                matplotlib=True,\n",
    "                show=False\n",
    "            )\n",
    "            plt.title(f\"SHAP explanation for User {user_id}\")\n",
    "            plt.show()\n",
    "            \n",
    "        except Exception as e:\n",
    "            print(f\"Failed to explain user {user_id}: {str(e)}\")\n",
    "            continue\n",
    "    \n",
    "    return explanations"
   ]
  },
  {
   "cell_type": "code",
   "execution_count": 19,
   "metadata": {},
   "outputs": [
    {
     "name": "stderr",
     "output_type": "stream",
     "text": [
      "Using 500 background data samples could cause slower run times. Consider using shap.sample(data, K) or shap.kmeans(data, K) to summarize the background as K samples.\n",
      "Widget Javascript not detected.  It may not be installed or enabled properly. Reconnecting the current kernel may help.\n"
     ]
    },
    {
     "data": {
      "application/vnd.jupyter.widget-view+json": {
       "model_id": "457de564014642368c19519aa2adc75a"
      }
     },
     "metadata": {},
     "output_type": "display_data"
    },
    {
     "name": "stderr",
     "output_type": "stream",
     "text": [
      "Exception ignored in: <function tqdm.__del__ at 0x783877d57910>\n",
      "Traceback (most recent call last):\n",
      "  File \"/home/aryan/.local/lib/python3.10/site-packages/tqdm/std.py\", line 1148, in __del__\n",
      "    self.close()\n",
      "  File \"/home/aryan/.local/lib/python3.10/site-packages/tqdm/notebook.py\", line 279, in close\n",
      "    self.disp(bar_style='danger', check_delay=False)\n",
      "  File \"/home/aryan/.local/lib/python3.10/site-packages/tqdm/notebook.py\", line 150, in display\n",
      "    d = self.format_dict\n",
      "  File \"/home/aryan/.local/lib/python3.10/site-packages/tqdm/std.py\", line 1462, in format_dict\n",
      "    'colour': self.colour}\n",
      "  File \"/home/aryan/.local/lib/python3.10/site-packages/tqdm/notebook.py\", line 195, in colour\n",
      "    return self.container.children[-2].style.bar_color\n",
      "AttributeError: 'FloatProgress' object has no attribute 'style'\n"
     ]
    },
    {
     "name": "stdout",
     "output_type": "stream",
     "text": [
      "Failed to explain user 0: 'FloatProgress' object has no attribute 'style'\n"
     ]
    },
    {
     "name": "stderr",
     "output_type": "stream",
     "text": [
      "Widget Javascript not detected.  It may not be installed or enabled properly. Reconnecting the current kernel may help.\n"
     ]
    },
    {
     "data": {
      "application/vnd.jupyter.widget-view+json": {
       "model_id": "d8b0a8d857fc43218fcee1eeafcbfad1"
      }
     },
     "metadata": {},
     "output_type": "display_data"
    },
    {
     "name": "stdout",
     "output_type": "stream",
     "text": [
      "Failed to explain user 1: 'FloatProgress' object has no attribute 'style'\n"
     ]
    },
    {
     "name": "stderr",
     "output_type": "stream",
     "text": [
      "Widget Javascript not detected.  It may not be installed or enabled properly. Reconnecting the current kernel may help.\n"
     ]
    },
    {
     "data": {
      "application/vnd.jupyter.widget-view+json": {
       "model_id": "ffecc26e8d0d439aa9c5f31b7cefabdd"
      }
     },
     "metadata": {},
     "output_type": "display_data"
    },
    {
     "name": "stdout",
     "output_type": "stream",
     "text": [
      "Failed to explain user 2: 'FloatProgress' object has no attribute 'style'\n"
     ]
    },
    {
     "name": "stderr",
     "output_type": "stream",
     "text": [
      "Widget Javascript not detected.  It may not be installed or enabled properly. Reconnecting the current kernel may help.\n"
     ]
    },
    {
     "data": {
      "application/vnd.jupyter.widget-view+json": {
       "model_id": "406f1b07e9a246ddb6778fed55fdc902"
      }
     },
     "metadata": {},
     "output_type": "display_data"
    },
    {
     "name": "stderr",
     "output_type": "stream",
     "text": [
      "Exception ignored in: <function tqdm.__del__ at 0x783877d57910>\n",
      "Traceback (most recent call last):\n",
      "  File \"/home/aryan/.local/lib/python3.10/site-packages/tqdm/std.py\", line 1148, in __del__\n",
      "    self.close()\n",
      "  File \"/home/aryan/.local/lib/python3.10/site-packages/tqdm/notebook.py\", line 279, in close\n",
      "    self.disp(bar_style='danger', check_delay=False)\n",
      "  File \"/home/aryan/.local/lib/python3.10/site-packages/tqdm/notebook.py\", line 150, in display\n",
      "    d = self.format_dict\n",
      "  File \"/home/aryan/.local/lib/python3.10/site-packages/tqdm/std.py\", line 1462, in format_dict\n",
      "    'colour': self.colour}\n",
      "  File \"/home/aryan/.local/lib/python3.10/site-packages/tqdm/notebook.py\", line 195, in colour\n",
      "    return self.container.children[-2].style.bar_color\n",
      "AttributeError: 'FloatProgress' object has no attribute 'style'\n",
      "Exception ignored in: <function tqdm.__del__ at 0x783877d57910>\n",
      "Traceback (most recent call last):\n",
      "  File \"/home/aryan/.local/lib/python3.10/site-packages/tqdm/std.py\", line 1148, in __del__\n",
      "    self.close()\n",
      "  File \"/home/aryan/.local/lib/python3.10/site-packages/tqdm/notebook.py\", line 279, in close\n",
      "    self.disp(bar_style='danger', check_delay=False)\n",
      "  File \"/home/aryan/.local/lib/python3.10/site-packages/tqdm/notebook.py\", line 150, in display\n",
      "    d = self.format_dict\n",
      "  File \"/home/aryan/.local/lib/python3.10/site-packages/tqdm/std.py\", line 1462, in format_dict\n",
      "    'colour': self.colour}\n",
      "  File \"/home/aryan/.local/lib/python3.10/site-packages/tqdm/notebook.py\", line 195, in colour\n",
      "    return self.container.children[-2].style.bar_color\n",
      "AttributeError: 'FloatProgress' object has no attribute 'style'\n"
     ]
    },
    {
     "name": "stdout",
     "output_type": "stream",
     "text": [
      "Failed to explain user 3: 'FloatProgress' object has no attribute 'style'\n"
     ]
    },
    {
     "name": "stderr",
     "output_type": "stream",
     "text": [
      "Widget Javascript not detected.  It may not be installed or enabled properly. Reconnecting the current kernel may help.\n"
     ]
    },
    {
     "data": {
      "application/vnd.jupyter.widget-view+json": {
       "model_id": "c575be683a7a4c3489cc4f923717e4e1"
      }
     },
     "metadata": {},
     "output_type": "display_data"
    },
    {
     "name": "stdout",
     "output_type": "stream",
     "text": [
      "Failed to explain user 4: 'FloatProgress' object has no attribute 'style'\n"
     ]
    },
    {
     "data": {
      "text/plain": [
       "{}"
      ]
     },
     "execution_count": 19,
     "metadata": {},
     "output_type": "execute_result"
    }
   ],
   "source": [
    "explain_with_shap(model, features, edge_index, user_ids_to_explain)"
   ]
  },
  {
   "cell_type": "code",
   "execution_count": 1,
   "metadata": {},
   "outputs": [
    {
     "name": "stdout",
     "output_type": "stream",
     "text": [
      "5\n"
     ]
    }
   ],
   "source": [
    "print(5)"
   ]
  },
  {
   "cell_type": "code",
   "execution_count": null,
   "metadata": {},
   "outputs": [],
   "source": []
  }
 ],
 "metadata": {
  "kernelspec": {
   "display_name": "Python 3 (ipykernel)",
   "language": "python",
   "name": "python3"
  },
  "language_info": {
   "codemirror_mode": {
    "name": "ipython",
    "version": 3
   },
   "file_extension": ".py",
   "mimetype": "text/x-python",
   "name": "python",
   "nbconvert_exporter": "python",
   "pygments_lexer": "ipython3",
   "version": "3.10.12"
  }
 },
 "nbformat": 4,
 "nbformat_minor": 4
}
